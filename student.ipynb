{
 "cells": [
  {
   "cell_type": "markdown",
   "metadata": {},
   "source": [
    "# MICROSOFT MOVIE ANALYSIS"
   ]
  },
  {
   "cell_type": "markdown",
   "metadata": {},
   "source": [
    "# Final Project Submission\n",
    "\n",
    "Please fill out:\n",
    "* Student name: Scholar Chepkirui\n",
    "* Student pace: Part Time \n",
    "* Scheduled project review date/time: 09/11/2022\n",
    "* Instructor name: Asha Deen/ Rose Delilah/ Noah Kandie \n",
    "* Blog post URL:\n"
   ]
  },
  {
   "cell_type": "markdown",
   "metadata": {},
   "source": [
    "## Project Overview \n",
    "This project uses exploratory data analysis to generate insights for Microsoft Corporation, which wants to create a new movie studio. Based on the datasets from IMDB and Box Office Mojo, recommendations are made on the types of films that Microsoft needs to explore. The metrics used to determine the success and popularity of a genre are the total gross incomes and the average rating of the genre. Generally, the findings show that Microsoft should focus on Sci-Fi, adventure, animation and action genres due to the higher total gross income generated."
   ]
  },
  {
   "cell_type": "markdown",
   "metadata": {},
   "source": [
    "## Business Problem\n",
    "Microsoft wants to participate in the creation of original video content like other big companies. They have decided to create a new movie studio, but they don’t know anything about creating movies. This analysis mainly explores what types of films are currently doing the best at the box office. The findings of this exploratory data analysis generate actionable insights that the head of Microsoft's new movie studio can use to help decide what type of films to create.\n",
    "\n",
    "The questions to be answered by this analysis include:\n",
    "- What are the number of movies per genre?\n",
    "- Which genre of movies have the highest gross income?\n",
    "- Which genre of movies have a higher average rating?\n",
    "- What is the relationship between the average rating and the gross income?\n",
    "- What is the domestic gross and foreign gross income by start year of the movies?"
   ]
  },
  {
   "cell_type": "markdown",
   "metadata": {},
   "source": [
    "## Import libraries and load the data"
   ]
  },
  {
   "cell_type": "code",
   "execution_count": 2,
   "metadata": {},
   "outputs": [],
   "source": [
    "#import required libraries\n",
    "import pandas as pd\n",
    "import matplotlib.pyplot as plt\n",
    "import seaborn as sns"
   ]
  },
  {
   "cell_type": "code",
   "execution_count": 3,
   "metadata": {},
   "outputs": [],
   "source": [
    "#load the datasets\n",
    "movie_gross = pd.read_csv('zippedData/bom.movie_gross.csv.gz')\n",
    "imdb_title_basics = pd.read_csv('zippedData/imdb.title.basics.csv.gz')\n",
    "imdb_ratings = pd.read_csv('zippedData/imdb.title.ratings.csv.gz')"
   ]
  },
  {
   "cell_type": "code",
   "execution_count": 4,
   "metadata": {
    "scrolled": true
   },
   "outputs": [
    {
     "data": {
      "text/html": [
       "<div>\n",
       "<style scoped>\n",
       "    .dataframe tbody tr th:only-of-type {\n",
       "        vertical-align: middle;\n",
       "    }\n",
       "\n",
       "    .dataframe tbody tr th {\n",
       "        vertical-align: top;\n",
       "    }\n",
       "\n",
       "    .dataframe thead th {\n",
       "        text-align: right;\n",
       "    }\n",
       "</style>\n",
       "<table border=\"1\" class=\"dataframe\">\n",
       "  <thead>\n",
       "    <tr style=\"text-align: right;\">\n",
       "      <th></th>\n",
       "      <th>title</th>\n",
       "      <th>studio</th>\n",
       "      <th>domestic_gross</th>\n",
       "      <th>foreign_gross</th>\n",
       "      <th>year</th>\n",
       "    </tr>\n",
       "  </thead>\n",
       "  <tbody>\n",
       "    <tr>\n",
       "      <th>0</th>\n",
       "      <td>Toy Story 3</td>\n",
       "      <td>BV</td>\n",
       "      <td>415000000.0</td>\n",
       "      <td>652000000</td>\n",
       "      <td>2010</td>\n",
       "    </tr>\n",
       "    <tr>\n",
       "      <th>1</th>\n",
       "      <td>Alice in Wonderland (2010)</td>\n",
       "      <td>BV</td>\n",
       "      <td>334200000.0</td>\n",
       "      <td>691300000</td>\n",
       "      <td>2010</td>\n",
       "    </tr>\n",
       "    <tr>\n",
       "      <th>2</th>\n",
       "      <td>Harry Potter and the Deathly Hallows Part 1</td>\n",
       "      <td>WB</td>\n",
       "      <td>296000000.0</td>\n",
       "      <td>664300000</td>\n",
       "      <td>2010</td>\n",
       "    </tr>\n",
       "    <tr>\n",
       "      <th>3</th>\n",
       "      <td>Inception</td>\n",
       "      <td>WB</td>\n",
       "      <td>292600000.0</td>\n",
       "      <td>535700000</td>\n",
       "      <td>2010</td>\n",
       "    </tr>\n",
       "    <tr>\n",
       "      <th>4</th>\n",
       "      <td>Shrek Forever After</td>\n",
       "      <td>P/DW</td>\n",
       "      <td>238700000.0</td>\n",
       "      <td>513900000</td>\n",
       "      <td>2010</td>\n",
       "    </tr>\n",
       "  </tbody>\n",
       "</table>\n",
       "</div>"
      ],
      "text/plain": [
       "                                         title studio  domestic_gross  \\\n",
       "0                                  Toy Story 3     BV     415000000.0   \n",
       "1                   Alice in Wonderland (2010)     BV     334200000.0   \n",
       "2  Harry Potter and the Deathly Hallows Part 1     WB     296000000.0   \n",
       "3                                    Inception     WB     292600000.0   \n",
       "4                          Shrek Forever After   P/DW     238700000.0   \n",
       "\n",
       "  foreign_gross  year  \n",
       "0     652000000  2010  \n",
       "1     691300000  2010  \n",
       "2     664300000  2010  \n",
       "3     535700000  2010  \n",
       "4     513900000  2010  "
      ]
     },
     "execution_count": 4,
     "metadata": {},
     "output_type": "execute_result"
    }
   ],
   "source": [
    "#preview movie_gross dataset\n",
    "movie_gross.head()"
   ]
  },
  {
   "cell_type": "code",
   "execution_count": 5,
   "metadata": {},
   "outputs": [
    {
     "data": {
      "text/html": [
       "<div>\n",
       "<style scoped>\n",
       "    .dataframe tbody tr th:only-of-type {\n",
       "        vertical-align: middle;\n",
       "    }\n",
       "\n",
       "    .dataframe tbody tr th {\n",
       "        vertical-align: top;\n",
       "    }\n",
       "\n",
       "    .dataframe thead th {\n",
       "        text-align: right;\n",
       "    }\n",
       "</style>\n",
       "<table border=\"1\" class=\"dataframe\">\n",
       "  <thead>\n",
       "    <tr style=\"text-align: right;\">\n",
       "      <th></th>\n",
       "      <th>tconst</th>\n",
       "      <th>primary_title</th>\n",
       "      <th>original_title</th>\n",
       "      <th>start_year</th>\n",
       "      <th>runtime_minutes</th>\n",
       "      <th>genres</th>\n",
       "    </tr>\n",
       "  </thead>\n",
       "  <tbody>\n",
       "    <tr>\n",
       "      <th>0</th>\n",
       "      <td>tt0063540</td>\n",
       "      <td>Sunghursh</td>\n",
       "      <td>Sunghursh</td>\n",
       "      <td>2013</td>\n",
       "      <td>175.0</td>\n",
       "      <td>Action,Crime,Drama</td>\n",
       "    </tr>\n",
       "    <tr>\n",
       "      <th>1</th>\n",
       "      <td>tt0066787</td>\n",
       "      <td>One Day Before the Rainy Season</td>\n",
       "      <td>Ashad Ka Ek Din</td>\n",
       "      <td>2019</td>\n",
       "      <td>114.0</td>\n",
       "      <td>Biography,Drama</td>\n",
       "    </tr>\n",
       "    <tr>\n",
       "      <th>2</th>\n",
       "      <td>tt0069049</td>\n",
       "      <td>The Other Side of the Wind</td>\n",
       "      <td>The Other Side of the Wind</td>\n",
       "      <td>2018</td>\n",
       "      <td>122.0</td>\n",
       "      <td>Drama</td>\n",
       "    </tr>\n",
       "    <tr>\n",
       "      <th>3</th>\n",
       "      <td>tt0069204</td>\n",
       "      <td>Sabse Bada Sukh</td>\n",
       "      <td>Sabse Bada Sukh</td>\n",
       "      <td>2018</td>\n",
       "      <td>NaN</td>\n",
       "      <td>Comedy,Drama</td>\n",
       "    </tr>\n",
       "    <tr>\n",
       "      <th>4</th>\n",
       "      <td>tt0100275</td>\n",
       "      <td>The Wandering Soap Opera</td>\n",
       "      <td>La Telenovela Errante</td>\n",
       "      <td>2017</td>\n",
       "      <td>80.0</td>\n",
       "      <td>Comedy,Drama,Fantasy</td>\n",
       "    </tr>\n",
       "  </tbody>\n",
       "</table>\n",
       "</div>"
      ],
      "text/plain": [
       "      tconst                    primary_title              original_title  \\\n",
       "0  tt0063540                        Sunghursh                   Sunghursh   \n",
       "1  tt0066787  One Day Before the Rainy Season             Ashad Ka Ek Din   \n",
       "2  tt0069049       The Other Side of the Wind  The Other Side of the Wind   \n",
       "3  tt0069204                  Sabse Bada Sukh             Sabse Bada Sukh   \n",
       "4  tt0100275         The Wandering Soap Opera       La Telenovela Errante   \n",
       "\n",
       "   start_year  runtime_minutes                genres  \n",
       "0        2013            175.0    Action,Crime,Drama  \n",
       "1        2019            114.0       Biography,Drama  \n",
       "2        2018            122.0                 Drama  \n",
       "3        2018              NaN          Comedy,Drama  \n",
       "4        2017             80.0  Comedy,Drama,Fantasy  "
      ]
     },
     "execution_count": 5,
     "metadata": {},
     "output_type": "execute_result"
    }
   ],
   "source": [
    "##preview imdb title basics dataset\n",
    "imdb_title_basics.head()"
   ]
  },
  {
   "cell_type": "code",
   "execution_count": 6,
   "metadata": {},
   "outputs": [
    {
     "data": {
      "text/html": [
       "<div>\n",
       "<style scoped>\n",
       "    .dataframe tbody tr th:only-of-type {\n",
       "        vertical-align: middle;\n",
       "    }\n",
       "\n",
       "    .dataframe tbody tr th {\n",
       "        vertical-align: top;\n",
       "    }\n",
       "\n",
       "    .dataframe thead th {\n",
       "        text-align: right;\n",
       "    }\n",
       "</style>\n",
       "<table border=\"1\" class=\"dataframe\">\n",
       "  <thead>\n",
       "    <tr style=\"text-align: right;\">\n",
       "      <th></th>\n",
       "      <th>tconst</th>\n",
       "      <th>averagerating</th>\n",
       "      <th>numvotes</th>\n",
       "    </tr>\n",
       "  </thead>\n",
       "  <tbody>\n",
       "    <tr>\n",
       "      <th>0</th>\n",
       "      <td>tt10356526</td>\n",
       "      <td>8.3</td>\n",
       "      <td>31</td>\n",
       "    </tr>\n",
       "    <tr>\n",
       "      <th>1</th>\n",
       "      <td>tt10384606</td>\n",
       "      <td>8.9</td>\n",
       "      <td>559</td>\n",
       "    </tr>\n",
       "    <tr>\n",
       "      <th>2</th>\n",
       "      <td>tt1042974</td>\n",
       "      <td>6.4</td>\n",
       "      <td>20</td>\n",
       "    </tr>\n",
       "  </tbody>\n",
       "</table>\n",
       "</div>"
      ],
      "text/plain": [
       "       tconst  averagerating  numvotes\n",
       "0  tt10356526            8.3        31\n",
       "1  tt10384606            8.9       559\n",
       "2   tt1042974            6.4        20"
      ]
     },
     "execution_count": 6,
     "metadata": {},
     "output_type": "execute_result"
    }
   ],
   "source": [
    "#preview imdb ratings dataset\n",
    "imdb_ratings.head(3)                              "
   ]
  },
  {
   "cell_type": "markdown",
   "metadata": {},
   "source": [
    "## Data Understanding"
   ]
  },
  {
   "cell_type": "code",
   "execution_count": 7,
   "metadata": {},
   "outputs": [
    {
     "name": "stdout",
     "output_type": "stream",
     "text": [
      "<class 'pandas.core.frame.DataFrame'>\n",
      "RangeIndex: 3387 entries, 0 to 3386\n",
      "Data columns (total 5 columns):\n",
      " #   Column          Non-Null Count  Dtype  \n",
      "---  ------          --------------  -----  \n",
      " 0   title           3387 non-null   object \n",
      " 1   studio          3382 non-null   object \n",
      " 2   domestic_gross  3359 non-null   float64\n",
      " 3   foreign_gross   2037 non-null   object \n",
      " 4   year            3387 non-null   int64  \n",
      "dtypes: float64(1), int64(1), object(3)\n",
      "memory usage: 132.4+ KB\n"
     ]
    }
   ],
   "source": [
    "#summary of movie_gross dataframe\n",
    "movie_gross.info()"
   ]
  },
  {
   "cell_type": "code",
   "execution_count": 8,
   "metadata": {},
   "outputs": [
    {
     "name": "stdout",
     "output_type": "stream",
     "text": [
      "movie_gross has 3387 rows and 5 columns\n"
     ]
    }
   ],
   "source": [
    "#number of rows and columns of movie_gross\n",
    "print(f'movie_gross has {movie_gross.shape[0]} rows and {movie_gross.shape[1]} columns')"
   ]
  },
  {
   "cell_type": "code",
   "execution_count": 9,
   "metadata": {},
   "outputs": [
    {
     "data": {
      "text/html": [
       "<div>\n",
       "<style scoped>\n",
       "    .dataframe tbody tr th:only-of-type {\n",
       "        vertical-align: middle;\n",
       "    }\n",
       "\n",
       "    .dataframe tbody tr th {\n",
       "        vertical-align: top;\n",
       "    }\n",
       "\n",
       "    .dataframe thead th {\n",
       "        text-align: right;\n",
       "    }\n",
       "</style>\n",
       "<table border=\"1\" class=\"dataframe\">\n",
       "  <thead>\n",
       "    <tr style=\"text-align: right;\">\n",
       "      <th></th>\n",
       "      <th>domestic_gross</th>\n",
       "      <th>year</th>\n",
       "    </tr>\n",
       "  </thead>\n",
       "  <tbody>\n",
       "    <tr>\n",
       "      <th>count</th>\n",
       "      <td>3.359000e+03</td>\n",
       "      <td>3387.000000</td>\n",
       "    </tr>\n",
       "    <tr>\n",
       "      <th>mean</th>\n",
       "      <td>2.874585e+07</td>\n",
       "      <td>2013.958075</td>\n",
       "    </tr>\n",
       "    <tr>\n",
       "      <th>std</th>\n",
       "      <td>6.698250e+07</td>\n",
       "      <td>2.478141</td>\n",
       "    </tr>\n",
       "    <tr>\n",
       "      <th>min</th>\n",
       "      <td>1.000000e+02</td>\n",
       "      <td>2010.000000</td>\n",
       "    </tr>\n",
       "    <tr>\n",
       "      <th>25%</th>\n",
       "      <td>1.200000e+05</td>\n",
       "      <td>2012.000000</td>\n",
       "    </tr>\n",
       "    <tr>\n",
       "      <th>50%</th>\n",
       "      <td>1.400000e+06</td>\n",
       "      <td>2014.000000</td>\n",
       "    </tr>\n",
       "    <tr>\n",
       "      <th>75%</th>\n",
       "      <td>2.790000e+07</td>\n",
       "      <td>2016.000000</td>\n",
       "    </tr>\n",
       "    <tr>\n",
       "      <th>max</th>\n",
       "      <td>9.367000e+08</td>\n",
       "      <td>2018.000000</td>\n",
       "    </tr>\n",
       "  </tbody>\n",
       "</table>\n",
       "</div>"
      ],
      "text/plain": [
       "       domestic_gross         year\n",
       "count    3.359000e+03  3387.000000\n",
       "mean     2.874585e+07  2013.958075\n",
       "std      6.698250e+07     2.478141\n",
       "min      1.000000e+02  2010.000000\n",
       "25%      1.200000e+05  2012.000000\n",
       "50%      1.400000e+06  2014.000000\n",
       "75%      2.790000e+07  2016.000000\n",
       "max      9.367000e+08  2018.000000"
      ]
     },
     "execution_count": 9,
     "metadata": {},
     "output_type": "execute_result"
    }
   ],
   "source": [
    "#summary statistics of movie_gross\n",
    "movie_gross.describe()"
   ]
  },
  {
   "cell_type": "code",
   "execution_count": 10,
   "metadata": {},
   "outputs": [
    {
     "name": "stdout",
     "output_type": "stream",
     "text": [
      "<class 'pandas.core.frame.DataFrame'>\n",
      "RangeIndex: 146144 entries, 0 to 146143\n",
      "Data columns (total 6 columns):\n",
      " #   Column           Non-Null Count   Dtype  \n",
      "---  ------           --------------   -----  \n",
      " 0   tconst           146144 non-null  object \n",
      " 1   primary_title    146144 non-null  object \n",
      " 2   original_title   146123 non-null  object \n",
      " 3   start_year       146144 non-null  int64  \n",
      " 4   runtime_minutes  114405 non-null  float64\n",
      " 5   genres           140736 non-null  object \n",
      "dtypes: float64(1), int64(1), object(4)\n",
      "memory usage: 6.7+ MB\n"
     ]
    }
   ],
   "source": [
    "#summary of the imdb_title dataframe\n",
    "imdb_title_basics.info()"
   ]
  },
  {
   "cell_type": "code",
   "execution_count": 11,
   "metadata": {},
   "outputs": [
    {
     "name": "stdout",
     "output_type": "stream",
     "text": [
      "imdb_title_basics has 146144 rows and 6 columns\n"
     ]
    }
   ],
   "source": [
    "#number of rows and columns of imdb_title_basics\n",
    "print(f'imdb_title_basics has {imdb_title_basics.shape[0]} rows and {imdb_title_basics.shape[1]} columns')"
   ]
  },
  {
   "cell_type": "code",
   "execution_count": 12,
   "metadata": {},
   "outputs": [
    {
     "data": {
      "text/html": [
       "<div>\n",
       "<style scoped>\n",
       "    .dataframe tbody tr th:only-of-type {\n",
       "        vertical-align: middle;\n",
       "    }\n",
       "\n",
       "    .dataframe tbody tr th {\n",
       "        vertical-align: top;\n",
       "    }\n",
       "\n",
       "    .dataframe thead th {\n",
       "        text-align: right;\n",
       "    }\n",
       "</style>\n",
       "<table border=\"1\" class=\"dataframe\">\n",
       "  <thead>\n",
       "    <tr style=\"text-align: right;\">\n",
       "      <th></th>\n",
       "      <th>start_year</th>\n",
       "      <th>runtime_minutes</th>\n",
       "    </tr>\n",
       "  </thead>\n",
       "  <tbody>\n",
       "    <tr>\n",
       "      <th>count</th>\n",
       "      <td>146144.000000</td>\n",
       "      <td>114405.000000</td>\n",
       "    </tr>\n",
       "    <tr>\n",
       "      <th>mean</th>\n",
       "      <td>2014.621798</td>\n",
       "      <td>86.187247</td>\n",
       "    </tr>\n",
       "    <tr>\n",
       "      <th>std</th>\n",
       "      <td>2.733583</td>\n",
       "      <td>166.360590</td>\n",
       "    </tr>\n",
       "    <tr>\n",
       "      <th>min</th>\n",
       "      <td>2010.000000</td>\n",
       "      <td>1.000000</td>\n",
       "    </tr>\n",
       "    <tr>\n",
       "      <th>25%</th>\n",
       "      <td>2012.000000</td>\n",
       "      <td>70.000000</td>\n",
       "    </tr>\n",
       "    <tr>\n",
       "      <th>50%</th>\n",
       "      <td>2015.000000</td>\n",
       "      <td>87.000000</td>\n",
       "    </tr>\n",
       "    <tr>\n",
       "      <th>75%</th>\n",
       "      <td>2017.000000</td>\n",
       "      <td>99.000000</td>\n",
       "    </tr>\n",
       "    <tr>\n",
       "      <th>max</th>\n",
       "      <td>2115.000000</td>\n",
       "      <td>51420.000000</td>\n",
       "    </tr>\n",
       "  </tbody>\n",
       "</table>\n",
       "</div>"
      ],
      "text/plain": [
       "          start_year  runtime_minutes\n",
       "count  146144.000000    114405.000000\n",
       "mean     2014.621798        86.187247\n",
       "std         2.733583       166.360590\n",
       "min      2010.000000         1.000000\n",
       "25%      2012.000000        70.000000\n",
       "50%      2015.000000        87.000000\n",
       "75%      2017.000000        99.000000\n",
       "max      2115.000000     51420.000000"
      ]
     },
     "execution_count": 12,
     "metadata": {},
     "output_type": "execute_result"
    }
   ],
   "source": [
    "#summary statistics of imdb_title_basics\n",
    "imdb_title_basics.describe()"
   ]
  },
  {
   "cell_type": "code",
   "execution_count": 13,
   "metadata": {},
   "outputs": [
    {
     "name": "stdout",
     "output_type": "stream",
     "text": [
      "<class 'pandas.core.frame.DataFrame'>\n",
      "RangeIndex: 73856 entries, 0 to 73855\n",
      "Data columns (total 3 columns):\n",
      " #   Column         Non-Null Count  Dtype  \n",
      "---  ------         --------------  -----  \n",
      " 0   tconst         73856 non-null  object \n",
      " 1   averagerating  73856 non-null  float64\n",
      " 2   numvotes       73856 non-null  int64  \n",
      "dtypes: float64(1), int64(1), object(1)\n",
      "memory usage: 1.7+ MB\n"
     ]
    }
   ],
   "source": [
    "#summary of the imdb_ratings dataframe\n",
    "imdb_ratings.info()"
   ]
  },
  {
   "cell_type": "code",
   "execution_count": 14,
   "metadata": {},
   "outputs": [
    {
     "name": "stdout",
     "output_type": "stream",
     "text": [
      "imdb_ratings has 73856 rows and 3 columns\n"
     ]
    }
   ],
   "source": [
    "#number of rows and columns of imdb_ratings\n",
    "print(f'imdb_ratings has {imdb_ratings.shape[0]} rows and {imdb_ratings.shape[1]} columns')"
   ]
  },
  {
   "cell_type": "code",
   "execution_count": 15,
   "metadata": {},
   "outputs": [
    {
     "data": {
      "text/html": [
       "<div>\n",
       "<style scoped>\n",
       "    .dataframe tbody tr th:only-of-type {\n",
       "        vertical-align: middle;\n",
       "    }\n",
       "\n",
       "    .dataframe tbody tr th {\n",
       "        vertical-align: top;\n",
       "    }\n",
       "\n",
       "    .dataframe thead th {\n",
       "        text-align: right;\n",
       "    }\n",
       "</style>\n",
       "<table border=\"1\" class=\"dataframe\">\n",
       "  <thead>\n",
       "    <tr style=\"text-align: right;\">\n",
       "      <th></th>\n",
       "      <th>averagerating</th>\n",
       "      <th>numvotes</th>\n",
       "    </tr>\n",
       "  </thead>\n",
       "  <tbody>\n",
       "    <tr>\n",
       "      <th>count</th>\n",
       "      <td>73856.000000</td>\n",
       "      <td>7.385600e+04</td>\n",
       "    </tr>\n",
       "    <tr>\n",
       "      <th>mean</th>\n",
       "      <td>6.332729</td>\n",
       "      <td>3.523662e+03</td>\n",
       "    </tr>\n",
       "    <tr>\n",
       "      <th>std</th>\n",
       "      <td>1.474978</td>\n",
       "      <td>3.029402e+04</td>\n",
       "    </tr>\n",
       "    <tr>\n",
       "      <th>min</th>\n",
       "      <td>1.000000</td>\n",
       "      <td>5.000000e+00</td>\n",
       "    </tr>\n",
       "    <tr>\n",
       "      <th>25%</th>\n",
       "      <td>5.500000</td>\n",
       "      <td>1.400000e+01</td>\n",
       "    </tr>\n",
       "    <tr>\n",
       "      <th>50%</th>\n",
       "      <td>6.500000</td>\n",
       "      <td>4.900000e+01</td>\n",
       "    </tr>\n",
       "    <tr>\n",
       "      <th>75%</th>\n",
       "      <td>7.400000</td>\n",
       "      <td>2.820000e+02</td>\n",
       "    </tr>\n",
       "    <tr>\n",
       "      <th>max</th>\n",
       "      <td>10.000000</td>\n",
       "      <td>1.841066e+06</td>\n",
       "    </tr>\n",
       "  </tbody>\n",
       "</table>\n",
       "</div>"
      ],
      "text/plain": [
       "       averagerating      numvotes\n",
       "count   73856.000000  7.385600e+04\n",
       "mean        6.332729  3.523662e+03\n",
       "std         1.474978  3.029402e+04\n",
       "min         1.000000  5.000000e+00\n",
       "25%         5.500000  1.400000e+01\n",
       "50%         6.500000  4.900000e+01\n",
       "75%         7.400000  2.820000e+02\n",
       "max        10.000000  1.841066e+06"
      ]
     },
     "execution_count": 15,
     "metadata": {},
     "output_type": "execute_result"
    }
   ],
   "source": [
    "#summary statistics of imdb_ratings\n",
    "imdb_ratings.describe()"
   ]
  },
  {
   "cell_type": "markdown",
   "metadata": {},
   "source": [
    "## Data Cleaning"
   ]
  },
  {
   "cell_type": "markdown",
   "metadata": {},
   "source": [
    "### Check for  duplicates"
   ]
  },
  {
   "cell_type": "code",
   "execution_count": 16,
   "metadata": {},
   "outputs": [
    {
     "data": {
      "text/html": [
       "<div>\n",
       "<style scoped>\n",
       "    .dataframe tbody tr th:only-of-type {\n",
       "        vertical-align: middle;\n",
       "    }\n",
       "\n",
       "    .dataframe tbody tr th {\n",
       "        vertical-align: top;\n",
       "    }\n",
       "\n",
       "    .dataframe thead th {\n",
       "        text-align: right;\n",
       "    }\n",
       "</style>\n",
       "<table border=\"1\" class=\"dataframe\">\n",
       "  <thead>\n",
       "    <tr style=\"text-align: right;\">\n",
       "      <th></th>\n",
       "      <th>title</th>\n",
       "      <th>studio</th>\n",
       "      <th>domestic_gross</th>\n",
       "      <th>foreign_gross</th>\n",
       "      <th>year</th>\n",
       "    </tr>\n",
       "  </thead>\n",
       "  <tbody>\n",
       "    <tr>\n",
       "      <th>317</th>\n",
       "      <td>Bluebeard</td>\n",
       "      <td>Strand</td>\n",
       "      <td>33500.0</td>\n",
       "      <td>5200</td>\n",
       "      <td>2010</td>\n",
       "    </tr>\n",
       "    <tr>\n",
       "      <th>3045</th>\n",
       "      <td>Bluebeard</td>\n",
       "      <td>WGUSA</td>\n",
       "      <td>43100.0</td>\n",
       "      <td>NaN</td>\n",
       "      <td>2017</td>\n",
       "    </tr>\n",
       "  </tbody>\n",
       "</table>\n",
       "</div>"
      ],
      "text/plain": [
       "          title  studio  domestic_gross foreign_gross  year\n",
       "317   Bluebeard  Strand         33500.0          5200  2010\n",
       "3045  Bluebeard   WGUSA         43100.0           NaN  2017"
      ]
     },
     "execution_count": 16,
     "metadata": {},
     "output_type": "execute_result"
    }
   ],
   "source": [
    "#display all duplicate records for movie gross 'title' column\n",
    "movie_gross[movie_gross.duplicated(keep=False, subset='title')].sort_values(by='title')"
   ]
  },
  {
   "cell_type": "markdown",
   "metadata": {},
   "source": [
    "The two records above, with the same title 'Bluebeard', are not duplicate records. This is because the other columns in the dataset, other than the title, have different values."
   ]
  },
  {
   "cell_type": "code",
   "execution_count": 17,
   "metadata": {},
   "outputs": [
    {
     "data": {
      "text/html": [
       "<div>\n",
       "<style scoped>\n",
       "    .dataframe tbody tr th:only-of-type {\n",
       "        vertical-align: middle;\n",
       "    }\n",
       "\n",
       "    .dataframe tbody tr th {\n",
       "        vertical-align: top;\n",
       "    }\n",
       "\n",
       "    .dataframe thead th {\n",
       "        text-align: right;\n",
       "    }\n",
       "</style>\n",
       "<table border=\"1\" class=\"dataframe\">\n",
       "  <thead>\n",
       "    <tr style=\"text-align: right;\">\n",
       "      <th></th>\n",
       "      <th>tconst</th>\n",
       "      <th>averagerating</th>\n",
       "      <th>numvotes</th>\n",
       "    </tr>\n",
       "  </thead>\n",
       "  <tbody>\n",
       "  </tbody>\n",
       "</table>\n",
       "</div>"
      ],
      "text/plain": [
       "Empty DataFrame\n",
       "Columns: [tconst, averagerating, numvotes]\n",
       "Index: []"
      ]
     },
     "execution_count": 17,
     "metadata": {},
     "output_type": "execute_result"
    }
   ],
   "source": [
    "imdb_ratings[imdb_ratings.duplicated(keep=False, subset=['tconst'])].sort_values(by='tconst')"
   ]
  },
  {
   "cell_type": "markdown",
   "metadata": {},
   "source": [
    "imdb_ratings dataframe has no duplicate records."
   ]
  },
  {
   "cell_type": "code",
   "execution_count": 18,
   "metadata": {
    "scrolled": true
   },
   "outputs": [
    {
     "data": {
      "text/html": [
       "<div>\n",
       "<style scoped>\n",
       "    .dataframe tbody tr th:only-of-type {\n",
       "        vertical-align: middle;\n",
       "    }\n",
       "\n",
       "    .dataframe tbody tr th {\n",
       "        vertical-align: top;\n",
       "    }\n",
       "\n",
       "    .dataframe thead th {\n",
       "        text-align: right;\n",
       "    }\n",
       "</style>\n",
       "<table border=\"1\" class=\"dataframe\">\n",
       "  <thead>\n",
       "    <tr style=\"text-align: right;\">\n",
       "      <th></th>\n",
       "      <th>tconst</th>\n",
       "      <th>primary_title</th>\n",
       "      <th>original_title</th>\n",
       "      <th>start_year</th>\n",
       "      <th>runtime_minutes</th>\n",
       "      <th>genres</th>\n",
       "    </tr>\n",
       "  </thead>\n",
       "  <tbody>\n",
       "    <tr>\n",
       "      <th>129962</th>\n",
       "      <td>tt8032828</td>\n",
       "      <td>100 Milioni di bracciate</td>\n",
       "      <td>100 Milioni di bracciate</td>\n",
       "      <td>2017</td>\n",
       "      <td>NaN</td>\n",
       "      <td>Biography</td>\n",
       "    </tr>\n",
       "    <tr>\n",
       "      <th>129979</th>\n",
       "      <td>tt8034014</td>\n",
       "      <td>100 Milioni di bracciate</td>\n",
       "      <td>100 Milioni di bracciate</td>\n",
       "      <td>2017</td>\n",
       "      <td>NaN</td>\n",
       "      <td>Biography</td>\n",
       "    </tr>\n",
       "    <tr>\n",
       "      <th>145118</th>\n",
       "      <td>tt9773302</td>\n",
       "      <td>3. Elma</td>\n",
       "      <td>3. Elma</td>\n",
       "      <td>2014</td>\n",
       "      <td>65.0</td>\n",
       "      <td>Drama</td>\n",
       "    </tr>\n",
       "    <tr>\n",
       "      <th>144392</th>\n",
       "      <td>tt9660588</td>\n",
       "      <td>3. Elma</td>\n",
       "      <td>3. Elma</td>\n",
       "      <td>2014</td>\n",
       "      <td>65.0</td>\n",
       "      <td>Drama</td>\n",
       "    </tr>\n",
       "    <tr>\n",
       "      <th>144337</th>\n",
       "      <td>tt9653930</td>\n",
       "      <td>3. Elma</td>\n",
       "      <td>3. Elma</td>\n",
       "      <td>2014</td>\n",
       "      <td>65.0</td>\n",
       "      <td>Drama</td>\n",
       "    </tr>\n",
       "    <tr>\n",
       "      <th>...</th>\n",
       "      <td>...</td>\n",
       "      <td>...</td>\n",
       "      <td>...</td>\n",
       "      <td>...</td>\n",
       "      <td>...</td>\n",
       "      <td>...</td>\n",
       "    </tr>\n",
       "    <tr>\n",
       "      <th>66992</th>\n",
       "      <td>tt3815128</td>\n",
       "      <td>Ângelo de Sousa - Tudo o Que Sou Capaz</td>\n",
       "      <td>Ângelo de Sousa - Tudo o Que Sou Capaz</td>\n",
       "      <td>2010</td>\n",
       "      <td>60.0</td>\n",
       "      <td>Biography,Documentary</td>\n",
       "    </tr>\n",
       "    <tr>\n",
       "      <th>66991</th>\n",
       "      <td>tt3815126</td>\n",
       "      <td>Ângelo de Sousa - Tudo o Que Sou Capaz</td>\n",
       "      <td>Ângelo de Sousa - Tudo o Que Sou Capaz</td>\n",
       "      <td>2010</td>\n",
       "      <td>60.0</td>\n",
       "      <td>Biography,Documentary</td>\n",
       "    </tr>\n",
       "    <tr>\n",
       "      <th>66990</th>\n",
       "      <td>tt3815124</td>\n",
       "      <td>Ângelo de Sousa - Tudo o Que Sou Capaz</td>\n",
       "      <td>Ângelo de Sousa - Tudo o Que Sou Capaz</td>\n",
       "      <td>2010</td>\n",
       "      <td>60.0</td>\n",
       "      <td>Biography,Documentary</td>\n",
       "    </tr>\n",
       "    <tr>\n",
       "      <th>66989</th>\n",
       "      <td>tt3815122</td>\n",
       "      <td>Ângelo de Sousa - Tudo o Que Sou Capaz</td>\n",
       "      <td>Ângelo de Sousa - Tudo o Que Sou Capaz</td>\n",
       "      <td>2010</td>\n",
       "      <td>60.0</td>\n",
       "      <td>Biography,Documentary</td>\n",
       "    </tr>\n",
       "    <tr>\n",
       "      <th>66995</th>\n",
       "      <td>tt3815134</td>\n",
       "      <td>Ângelo de Sousa - Tudo o Que Sou Capaz</td>\n",
       "      <td>Ângelo de Sousa - Tudo o Que Sou Capaz</td>\n",
       "      <td>2010</td>\n",
       "      <td>60.0</td>\n",
       "      <td>Biography,Documentary</td>\n",
       "    </tr>\n",
       "  </tbody>\n",
       "</table>\n",
       "<p>687 rows × 6 columns</p>\n",
       "</div>"
      ],
      "text/plain": [
       "           tconst                           primary_title  \\\n",
       "129962  tt8032828                100 Milioni di bracciate   \n",
       "129979  tt8034014                100 Milioni di bracciate   \n",
       "145118  tt9773302                                 3. Elma   \n",
       "144392  tt9660588                                 3. Elma   \n",
       "144337  tt9653930                                 3. Elma   \n",
       "...           ...                                     ...   \n",
       "66992   tt3815128  Ângelo de Sousa - Tudo o Que Sou Capaz   \n",
       "66991   tt3815126  Ângelo de Sousa - Tudo o Que Sou Capaz   \n",
       "66990   tt3815124  Ângelo de Sousa - Tudo o Que Sou Capaz   \n",
       "66989   tt3815122  Ângelo de Sousa - Tudo o Que Sou Capaz   \n",
       "66995   tt3815134  Ângelo de Sousa - Tudo o Que Sou Capaz   \n",
       "\n",
       "                                original_title  start_year  runtime_minutes  \\\n",
       "129962                100 Milioni di bracciate        2017              NaN   \n",
       "129979                100 Milioni di bracciate        2017              NaN   \n",
       "145118                                 3. Elma        2014             65.0   \n",
       "144392                                 3. Elma        2014             65.0   \n",
       "144337                                 3. Elma        2014             65.0   \n",
       "...                                        ...         ...              ...   \n",
       "66992   Ângelo de Sousa - Tudo o Que Sou Capaz        2010             60.0   \n",
       "66991   Ângelo de Sousa - Tudo o Que Sou Capaz        2010             60.0   \n",
       "66990   Ângelo de Sousa - Tudo o Que Sou Capaz        2010             60.0   \n",
       "66989   Ângelo de Sousa - Tudo o Que Sou Capaz        2010             60.0   \n",
       "66995   Ângelo de Sousa - Tudo o Que Sou Capaz        2010             60.0   \n",
       "\n",
       "                       genres  \n",
       "129962              Biography  \n",
       "129979              Biography  \n",
       "145118                  Drama  \n",
       "144392                  Drama  \n",
       "144337                  Drama  \n",
       "...                       ...  \n",
       "66992   Biography,Documentary  \n",
       "66991   Biography,Documentary  \n",
       "66990   Biography,Documentary  \n",
       "66989   Biography,Documentary  \n",
       "66995   Biography,Documentary  \n",
       "\n",
       "[687 rows x 6 columns]"
      ]
     },
     "execution_count": 18,
     "metadata": {},
     "output_type": "execute_result"
    }
   ],
   "source": [
    "#display all duplicate records for imdb_title_basics dataframe using 'primary_title','start_year' and 'genres' columns\n",
    "imdb_title_basics[imdb_title_basics.duplicated(keep=False, subset=['primary_title','start_year', 'genres'])].sort_values(by='primary_title')"
   ]
  },
  {
   "cell_type": "code",
   "execution_count": 19,
   "metadata": {
    "scrolled": true
   },
   "outputs": [
    {
     "data": {
      "text/html": [
       "<div>\n",
       "<style scoped>\n",
       "    .dataframe tbody tr th:only-of-type {\n",
       "        vertical-align: middle;\n",
       "    }\n",
       "\n",
       "    .dataframe tbody tr th {\n",
       "        vertical-align: top;\n",
       "    }\n",
       "\n",
       "    .dataframe thead th {\n",
       "        text-align: right;\n",
       "    }\n",
       "</style>\n",
       "<table border=\"1\" class=\"dataframe\">\n",
       "  <thead>\n",
       "    <tr style=\"text-align: right;\">\n",
       "      <th></th>\n",
       "      <th>tconst</th>\n",
       "      <th>primary_title</th>\n",
       "      <th>original_title</th>\n",
       "      <th>start_year</th>\n",
       "      <th>runtime_minutes</th>\n",
       "      <th>genres</th>\n",
       "    </tr>\n",
       "  </thead>\n",
       "  <tbody>\n",
       "    <tr>\n",
       "      <th>65233</th>\n",
       "      <td>tt3727550</td>\n",
       "      <td>A Lovely Day</td>\n",
       "      <td>A Lovely Day</td>\n",
       "      <td>2014</td>\n",
       "      <td>70.0</td>\n",
       "      <td>Comedy,Drama</td>\n",
       "    </tr>\n",
       "    <tr>\n",
       "      <th>65265</th>\n",
       "      <td>tt3728756</td>\n",
       "      <td>A Lovely Day</td>\n",
       "      <td>A Lovely Day</td>\n",
       "      <td>2014</td>\n",
       "      <td>70.0</td>\n",
       "      <td>Comedy</td>\n",
       "    </tr>\n",
       "    <tr>\n",
       "      <th>32327</th>\n",
       "      <td>tt2216046</td>\n",
       "      <td>A Man's World</td>\n",
       "      <td>A Man's World</td>\n",
       "      <td>2012</td>\n",
       "      <td>NaN</td>\n",
       "      <td>Drama</td>\n",
       "    </tr>\n",
       "    <tr>\n",
       "      <th>39104</th>\n",
       "      <td>tt2398113</td>\n",
       "      <td>A Man's World</td>\n",
       "      <td>A Man's World</td>\n",
       "      <td>2012</td>\n",
       "      <td>NaN</td>\n",
       "      <td>NaN</td>\n",
       "    </tr>\n",
       "    <tr>\n",
       "      <th>97008</th>\n",
       "      <td>tt5659816</td>\n",
       "      <td>A Midsummer Night's Dream</td>\n",
       "      <td>A Midsummer Night's Dream</td>\n",
       "      <td>2017</td>\n",
       "      <td>105.0</td>\n",
       "      <td>Comedy,Fantasy</td>\n",
       "    </tr>\n",
       "    <tr>\n",
       "      <th>98455</th>\n",
       "      <td>tt5755040</td>\n",
       "      <td>A Midsummer Night's Dream</td>\n",
       "      <td>A Midsummer Night's Dream</td>\n",
       "      <td>2017</td>\n",
       "      <td>106.0</td>\n",
       "      <td>Comedy</td>\n",
       "    </tr>\n",
       "    <tr>\n",
       "      <th>45446</th>\n",
       "      <td>tt2705666</td>\n",
       "      <td>A Moment in Time</td>\n",
       "      <td>A Moment in Time</td>\n",
       "      <td>2013</td>\n",
       "      <td>105.0</td>\n",
       "      <td>Drama,Romance</td>\n",
       "    </tr>\n",
       "    <tr>\n",
       "      <th>139373</th>\n",
       "      <td>tt9010172</td>\n",
       "      <td>A Moment in Time</td>\n",
       "      <td>A Moment in Time</td>\n",
       "      <td>2013</td>\n",
       "      <td>NaN</td>\n",
       "      <td>Drama</td>\n",
       "    </tr>\n",
       "    <tr>\n",
       "      <th>62092</th>\n",
       "      <td>tt3577624</td>\n",
       "      <td>A Perfect Day</td>\n",
       "      <td>A Perfect Day</td>\n",
       "      <td>2015</td>\n",
       "      <td>106.0</td>\n",
       "      <td>Comedy,Drama,War</td>\n",
       "    </tr>\n",
       "    <tr>\n",
       "      <th>127216</th>\n",
       "      <td>tt7785272</td>\n",
       "      <td>A Perfect Day</td>\n",
       "      <td>A Perfect Day</td>\n",
       "      <td>2015</td>\n",
       "      <td>82.0</td>\n",
       "      <td>Drama</td>\n",
       "    </tr>\n",
       "    <tr>\n",
       "      <th>47365</th>\n",
       "      <td>tt2811824</td>\n",
       "      <td>A Place Called Robertson</td>\n",
       "      <td>A Place Called Robertson</td>\n",
       "      <td>2013</td>\n",
       "      <td>72.0</td>\n",
       "      <td>Documentary</td>\n",
       "    </tr>\n",
       "    <tr>\n",
       "      <th>47584</th>\n",
       "      <td>tt2823082</td>\n",
       "      <td>A Place Called Robertson</td>\n",
       "      <td>A Place Called Robertson</td>\n",
       "      <td>2013</td>\n",
       "      <td>72.0</td>\n",
       "      <td>Biography,Documentary,History</td>\n",
       "    </tr>\n",
       "    <tr>\n",
       "      <th>2665</th>\n",
       "      <td>tt10276054</td>\n",
       "      <td>A Resistance</td>\n",
       "      <td>A Resistance</td>\n",
       "      <td>2019</td>\n",
       "      <td>105.0</td>\n",
       "      <td>Drama</td>\n",
       "    </tr>\n",
       "    <tr>\n",
       "      <th>3159</th>\n",
       "      <td>tt10314516</td>\n",
       "      <td>A Resistance</td>\n",
       "      <td>A Resistance</td>\n",
       "      <td>2019</td>\n",
       "      <td>NaN</td>\n",
       "      <td>NaN</td>\n",
       "    </tr>\n",
       "    <tr>\n",
       "      <th>108262</th>\n",
       "      <td>tt6351934</td>\n",
       "      <td>A Roar of Wolf Troops</td>\n",
       "      <td>A Roar of Wolf Troops</td>\n",
       "      <td>2016</td>\n",
       "      <td>90.0</td>\n",
       "      <td>Action,Adventure,Drama</td>\n",
       "    </tr>\n",
       "    <tr>\n",
       "      <th>110049</th>\n",
       "      <td>tt6448108</td>\n",
       "      <td>A Roar of Wolf Troops</td>\n",
       "      <td>A Roar of Wolf Troops</td>\n",
       "      <td>2016</td>\n",
       "      <td>NaN</td>\n",
       "      <td>NaN</td>\n",
       "    </tr>\n",
       "    <tr>\n",
       "      <th>58488</th>\n",
       "      <td>tt3407908</td>\n",
       "      <td>A Tangled Web</td>\n",
       "      <td>A Tangled Web</td>\n",
       "      <td>2015</td>\n",
       "      <td>116.0</td>\n",
       "      <td>Drama,Mystery,Thriller</td>\n",
       "    </tr>\n",
       "    <tr>\n",
       "      <th>75737</th>\n",
       "      <td>tt4326556</td>\n",
       "      <td>A Tangled Web</td>\n",
       "      <td>A Tangled Web</td>\n",
       "      <td>2015</td>\n",
       "      <td>56.0</td>\n",
       "      <td>Thriller</td>\n",
       "    </tr>\n",
       "    <tr>\n",
       "      <th>128532</th>\n",
       "      <td>tt7907190</td>\n",
       "      <td>A Time to Heal</td>\n",
       "      <td>A Time to Heal</td>\n",
       "      <td>2017</td>\n",
       "      <td>56.0</td>\n",
       "      <td>Documentary</td>\n",
       "    </tr>\n",
       "    <tr>\n",
       "      <th>132978</th>\n",
       "      <td>tt8332396</td>\n",
       "      <td>A Time to Heal</td>\n",
       "      <td>A Time to Heal</td>\n",
       "      <td>2017</td>\n",
       "      <td>NaN</td>\n",
       "      <td>Drama</td>\n",
       "    </tr>\n",
       "    <tr>\n",
       "      <th>133383</th>\n",
       "      <td>tt8366766</td>\n",
       "      <td>A or B</td>\n",
       "      <td>Mu hou wan jia</td>\n",
       "      <td>2018</td>\n",
       "      <td>114.0</td>\n",
       "      <td>Mystery,Thriller</td>\n",
       "    </tr>\n",
       "    <tr>\n",
       "      <th>133394</th>\n",
       "      <td>tt8367436</td>\n",
       "      <td>A or B</td>\n",
       "      <td>A or B</td>\n",
       "      <td>2018</td>\n",
       "      <td>NaN</td>\n",
       "      <td>NaN</td>\n",
       "    </tr>\n",
       "    <tr>\n",
       "      <th>39720</th>\n",
       "      <td>tt2413338</td>\n",
       "      <td>Abducted</td>\n",
       "      <td>Abducted</td>\n",
       "      <td>2013</td>\n",
       "      <td>96.0</td>\n",
       "      <td>Horror,Sci-Fi,Thriller</td>\n",
       "    </tr>\n",
       "    <tr>\n",
       "      <th>81113</th>\n",
       "      <td>tt4662956</td>\n",
       "      <td>Abducted</td>\n",
       "      <td>Abducted</td>\n",
       "      <td>2013</td>\n",
       "      <td>90.0</td>\n",
       "      <td>Action,Drama,Thriller</td>\n",
       "    </tr>\n",
       "    <tr>\n",
       "      <th>10471</th>\n",
       "      <td>tt1600195</td>\n",
       "      <td>Abduction</td>\n",
       "      <td>Abduction</td>\n",
       "      <td>2011</td>\n",
       "      <td>106.0</td>\n",
       "      <td>Action,Mystery,Thriller</td>\n",
       "    </tr>\n",
       "    <tr>\n",
       "      <th>40541</th>\n",
       "      <td>tt2447982</td>\n",
       "      <td>Abduction</td>\n",
       "      <td>Abduction</td>\n",
       "      <td>2011</td>\n",
       "      <td>84.0</td>\n",
       "      <td>Horror,Thriller</td>\n",
       "    </tr>\n",
       "    <tr>\n",
       "      <th>81207</th>\n",
       "      <td>tt4667872</td>\n",
       "      <td>Abomination</td>\n",
       "      <td>Abomination</td>\n",
       "      <td>2018</td>\n",
       "      <td>90.0</td>\n",
       "      <td>Crime,Mystery,Thriller</td>\n",
       "    </tr>\n",
       "    <tr>\n",
       "      <th>139471</th>\n",
       "      <td>tt9017504</td>\n",
       "      <td>Abomination</td>\n",
       "      <td>Abomination</td>\n",
       "      <td>2018</td>\n",
       "      <td>83.0</td>\n",
       "      <td>Drama</td>\n",
       "    </tr>\n",
       "    <tr>\n",
       "      <th>50137</th>\n",
       "      <td>tt2974772</td>\n",
       "      <td>About Men</td>\n",
       "      <td>About Men</td>\n",
       "      <td>2013</td>\n",
       "      <td>72.0</td>\n",
       "      <td>Documentary,Drama</td>\n",
       "    </tr>\n",
       "  </tbody>\n",
       "</table>\n",
       "</div>"
      ],
      "text/plain": [
       "            tconst              primary_title             original_title  \\\n",
       "65233    tt3727550               A Lovely Day               A Lovely Day   \n",
       "65265    tt3728756               A Lovely Day               A Lovely Day   \n",
       "32327    tt2216046              A Man's World              A Man's World   \n",
       "39104    tt2398113              A Man's World              A Man's World   \n",
       "97008    tt5659816  A Midsummer Night's Dream  A Midsummer Night's Dream   \n",
       "98455    tt5755040  A Midsummer Night's Dream  A Midsummer Night's Dream   \n",
       "45446    tt2705666           A Moment in Time           A Moment in Time   \n",
       "139373   tt9010172           A Moment in Time           A Moment in Time   \n",
       "62092    tt3577624              A Perfect Day              A Perfect Day   \n",
       "127216   tt7785272              A Perfect Day              A Perfect Day   \n",
       "47365    tt2811824   A Place Called Robertson   A Place Called Robertson   \n",
       "47584    tt2823082   A Place Called Robertson   A Place Called Robertson   \n",
       "2665    tt10276054               A Resistance               A Resistance   \n",
       "3159    tt10314516               A Resistance               A Resistance   \n",
       "108262   tt6351934      A Roar of Wolf Troops      A Roar of Wolf Troops   \n",
       "110049   tt6448108      A Roar of Wolf Troops      A Roar of Wolf Troops   \n",
       "58488    tt3407908              A Tangled Web              A Tangled Web   \n",
       "75737    tt4326556              A Tangled Web              A Tangled Web   \n",
       "128532   tt7907190             A Time to Heal             A Time to Heal   \n",
       "132978   tt8332396             A Time to Heal             A Time to Heal   \n",
       "133383   tt8366766                     A or B             Mu hou wan jia   \n",
       "133394   tt8367436                     A or B                     A or B   \n",
       "39720    tt2413338                   Abducted                   Abducted   \n",
       "81113    tt4662956                   Abducted                   Abducted   \n",
       "10471    tt1600195                  Abduction                  Abduction   \n",
       "40541    tt2447982                  Abduction                  Abduction   \n",
       "81207    tt4667872                Abomination                Abomination   \n",
       "139471   tt9017504                Abomination                Abomination   \n",
       "50137    tt2974772                  About Men                  About Men   \n",
       "\n",
       "        start_year  runtime_minutes                         genres  \n",
       "65233         2014             70.0                   Comedy,Drama  \n",
       "65265         2014             70.0                         Comedy  \n",
       "32327         2012              NaN                          Drama  \n",
       "39104         2012              NaN                            NaN  \n",
       "97008         2017            105.0                 Comedy,Fantasy  \n",
       "98455         2017            106.0                         Comedy  \n",
       "45446         2013            105.0                  Drama,Romance  \n",
       "139373        2013              NaN                          Drama  \n",
       "62092         2015            106.0               Comedy,Drama,War  \n",
       "127216        2015             82.0                          Drama  \n",
       "47365         2013             72.0                    Documentary  \n",
       "47584         2013             72.0  Biography,Documentary,History  \n",
       "2665          2019            105.0                          Drama  \n",
       "3159          2019              NaN                            NaN  \n",
       "108262        2016             90.0         Action,Adventure,Drama  \n",
       "110049        2016              NaN                            NaN  \n",
       "58488         2015            116.0         Drama,Mystery,Thriller  \n",
       "75737         2015             56.0                       Thriller  \n",
       "128532        2017             56.0                    Documentary  \n",
       "132978        2017              NaN                          Drama  \n",
       "133383        2018            114.0               Mystery,Thriller  \n",
       "133394        2018              NaN                            NaN  \n",
       "39720         2013             96.0         Horror,Sci-Fi,Thriller  \n",
       "81113         2013             90.0          Action,Drama,Thriller  \n",
       "10471         2011            106.0        Action,Mystery,Thriller  \n",
       "40541         2011             84.0                Horror,Thriller  \n",
       "81207         2018             90.0         Crime,Mystery,Thriller  \n",
       "139471        2018             83.0                          Drama  \n",
       "50137         2013             72.0              Documentary,Drama  "
      ]
     },
     "execution_count": 19,
     "metadata": {},
     "output_type": "execute_result"
    }
   ],
   "source": [
    "#display all duplicate records for imdb_title_basics dataframe using 'primary_title' and 'start_year'  columns\n",
    "imdb_title_basics[imdb_title_basics.duplicated(keep=False, subset=['primary_title','start_year'])].sort_values(by=['primary_title','start_year'])[61:90]"
   ]
  },
  {
   "cell_type": "markdown",
   "metadata": {},
   "source": [
    "imdb_title_basics has duplicate records based on the primary_title and the start_year. Some of the duplicate records have slightly different genres while others have missing values in either the runtime_minutes or genre columns. <br>\n",
    "The duplicate records will be dropped, while keeping the entry with the least number of missing values."
   ]
  },
  {
   "cell_type": "code",
   "execution_count": 20,
   "metadata": {},
   "outputs": [
    {
     "data": {
      "text/html": [
       "<div>\n",
       "<style scoped>\n",
       "    .dataframe tbody tr th:only-of-type {\n",
       "        vertical-align: middle;\n",
       "    }\n",
       "\n",
       "    .dataframe tbody tr th {\n",
       "        vertical-align: top;\n",
       "    }\n",
       "\n",
       "    .dataframe thead th {\n",
       "        text-align: right;\n",
       "    }\n",
       "</style>\n",
       "<table border=\"1\" class=\"dataframe\">\n",
       "  <thead>\n",
       "    <tr style=\"text-align: right;\">\n",
       "      <th></th>\n",
       "      <th>tconst</th>\n",
       "      <th>primary_title</th>\n",
       "      <th>original_title</th>\n",
       "      <th>start_year</th>\n",
       "      <th>runtime_minutes</th>\n",
       "      <th>genres</th>\n",
       "      <th>missing</th>\n",
       "    </tr>\n",
       "  </thead>\n",
       "  <tbody>\n",
       "    <tr>\n",
       "      <th>59640</th>\n",
       "      <td>tt3463230</td>\n",
       "      <td>37</td>\n",
       "      <td>37</td>\n",
       "      <td>2018</td>\n",
       "      <td>90.0</td>\n",
       "      <td>Drama</td>\n",
       "      <td>0</td>\n",
       "    </tr>\n",
       "    <tr>\n",
       "      <th>99507</th>\n",
       "      <td>tt5815216</td>\n",
       "      <td>37</td>\n",
       "      <td>37</td>\n",
       "      <td>2018</td>\n",
       "      <td>NaN</td>\n",
       "      <td>Drama,Romance,Thriller</td>\n",
       "      <td>1</td>\n",
       "    </tr>\n",
       "    <tr>\n",
       "      <th>30089</th>\n",
       "      <td>tt2148554</td>\n",
       "      <td>41</td>\n",
       "      <td>41</td>\n",
       "      <td>2012</td>\n",
       "      <td>98.0</td>\n",
       "      <td>Documentary</td>\n",
       "      <td>0</td>\n",
       "    </tr>\n",
       "    <tr>\n",
       "      <th>35991</th>\n",
       "      <td>tt2319739</td>\n",
       "      <td>41</td>\n",
       "      <td>41</td>\n",
       "      <td>2012</td>\n",
       "      <td>80.0</td>\n",
       "      <td>Drama,Sci-Fi</td>\n",
       "      <td>0</td>\n",
       "    </tr>\n",
       "    <tr>\n",
       "      <th>142077</th>\n",
       "      <td>tt9331072</td>\n",
       "      <td>44 Days</td>\n",
       "      <td>44 Days</td>\n",
       "      <td>2018</td>\n",
       "      <td>52.0</td>\n",
       "      <td>Mystery</td>\n",
       "      <td>0</td>\n",
       "    </tr>\n",
       "    <tr>\n",
       "      <th>143987</th>\n",
       "      <td>tt9614898</td>\n",
       "      <td>44 Days</td>\n",
       "      <td>44 Days</td>\n",
       "      <td>2018</td>\n",
       "      <td>76.0</td>\n",
       "      <td>Drama,War</td>\n",
       "      <td>0</td>\n",
       "    </tr>\n",
       "    <tr>\n",
       "      <th>55539</th>\n",
       "      <td>tt3252324</td>\n",
       "      <td>5 People</td>\n",
       "      <td>5 People</td>\n",
       "      <td>2013</td>\n",
       "      <td>87.0</td>\n",
       "      <td>Comedy,Drama,Thriller</td>\n",
       "      <td>0</td>\n",
       "    </tr>\n",
       "    <tr>\n",
       "      <th>51820</th>\n",
       "      <td>tt3072686</td>\n",
       "      <td>5 People</td>\n",
       "      <td>5 People</td>\n",
       "      <td>2013</td>\n",
       "      <td>NaN</td>\n",
       "      <td>Thriller</td>\n",
       "      <td>1</td>\n",
       "    </tr>\n",
       "    <tr>\n",
       "      <th>88065</th>\n",
       "      <td>tt5112592</td>\n",
       "      <td>7 Days</td>\n",
       "      <td>Nanoka</td>\n",
       "      <td>2015</td>\n",
       "      <td>110.0</td>\n",
       "      <td>Drama</td>\n",
       "      <td>0</td>\n",
       "    </tr>\n",
       "    <tr>\n",
       "      <th>46602</th>\n",
       "      <td>tt2771990</td>\n",
       "      <td>7 Days</td>\n",
       "      <td>7 Days</td>\n",
       "      <td>2015</td>\n",
       "      <td>NaN</td>\n",
       "      <td>Sci-Fi</td>\n",
       "      <td>1</td>\n",
       "    </tr>\n",
       "  </tbody>\n",
       "</table>\n",
       "</div>"
      ],
      "text/plain": [
       "           tconst primary_title original_title  start_year  runtime_minutes  \\\n",
       "59640   tt3463230            37             37        2018             90.0   \n",
       "99507   tt5815216            37             37        2018              NaN   \n",
       "30089   tt2148554            41             41        2012             98.0   \n",
       "35991   tt2319739            41             41        2012             80.0   \n",
       "142077  tt9331072       44 Days        44 Days        2018             52.0   \n",
       "143987  tt9614898       44 Days        44 Days        2018             76.0   \n",
       "55539   tt3252324      5 People       5 People        2013             87.0   \n",
       "51820   tt3072686      5 People       5 People        2013              NaN   \n",
       "88065   tt5112592        7 Days         Nanoka        2015            110.0   \n",
       "46602   tt2771990        7 Days         7 Days        2015              NaN   \n",
       "\n",
       "                        genres  missing  \n",
       "59640                    Drama        0  \n",
       "99507   Drama,Romance,Thriller        1  \n",
       "30089              Documentary        0  \n",
       "35991             Drama,Sci-Fi        0  \n",
       "142077                 Mystery        0  \n",
       "143987               Drama,War        0  \n",
       "55539    Comedy,Drama,Thriller        0  \n",
       "51820                 Thriller        1  \n",
       "88065                    Drama        0  \n",
       "46602                   Sci-Fi        1  "
      ]
     },
     "execution_count": 20,
     "metadata": {},
     "output_type": "execute_result"
    }
   ],
   "source": [
    "#assign a different variable name to a copy of the imdb_title_basics dataframe\n",
    "imdb_title_df = imdb_title_basics.copy()\n",
    "\n",
    "#assign a new column, 'missing', to the sum of missing values in each row\n",
    "#sort the dataframe by values of the 'primary_title' and 'missing'\n",
    "imdb_title_df = imdb_title_df.assign(missing=imdb_title_df.isnull().sum(axis=1)).sort_values(by=['primary_title', 'missing'], ascending=True)\n",
    "\n",
    "# preview of duplicated records\n",
    "imdb_title_df[imdb_title_df.duplicated(keep=False, subset=['primary_title','start_year'])][19:29]"
   ]
  },
  {
   "cell_type": "code",
   "execution_count": 21,
   "metadata": {},
   "outputs": [],
   "source": [
    "#drop duplicates while keeping the entry with least missing values and drop the column 'missing'\n",
    "imdb_title_df = imdb_title_df.drop_duplicates(keep='first', subset=['primary_title','start_year']).drop(columns='missing')"
   ]
  },
  {
   "cell_type": "code",
   "execution_count": 22,
   "metadata": {},
   "outputs": [
    {
     "data": {
      "text/html": [
       "<div>\n",
       "<style scoped>\n",
       "    .dataframe tbody tr th:only-of-type {\n",
       "        vertical-align: middle;\n",
       "    }\n",
       "\n",
       "    .dataframe tbody tr th {\n",
       "        vertical-align: top;\n",
       "    }\n",
       "\n",
       "    .dataframe thead th {\n",
       "        text-align: right;\n",
       "    }\n",
       "</style>\n",
       "<table border=\"1\" class=\"dataframe\">\n",
       "  <thead>\n",
       "    <tr style=\"text-align: right;\">\n",
       "      <th></th>\n",
       "      <th>tconst</th>\n",
       "      <th>primary_title</th>\n",
       "      <th>original_title</th>\n",
       "      <th>start_year</th>\n",
       "      <th>runtime_minutes</th>\n",
       "      <th>genres</th>\n",
       "    </tr>\n",
       "  </thead>\n",
       "  <tbody>\n",
       "  </tbody>\n",
       "</table>\n",
       "</div>"
      ],
      "text/plain": [
       "Empty DataFrame\n",
       "Columns: [tconst, primary_title, original_title, start_year, runtime_minutes, genres]\n",
       "Index: []"
      ]
     },
     "execution_count": 22,
     "metadata": {},
     "output_type": "execute_result"
    }
   ],
   "source": [
    "##recheck for duplicates\n",
    "imdb_title_df[imdb_title_df.duplicated(keep=False, subset=['primary_title','start_year'])].sort_values(by=['primary_title','start_year'])"
   ]
  },
  {
   "cell_type": "markdown",
   "metadata": {},
   "source": [
    "### Fix wrong data types"
   ]
  },
  {
   "cell_type": "code",
   "execution_count": 23,
   "metadata": {},
   "outputs": [
    {
     "name": "stdout",
     "output_type": "stream",
     "text": [
      "movie_gross data types: \n",
      " title              object\n",
      "studio             object\n",
      "domestic_gross    float64\n",
      "foreign_gross      object\n",
      "year                int64\n",
      "dtype: object \n",
      " **********************\n",
      "\n",
      " imdb_title_df data types: \n",
      " tconst              object\n",
      "primary_title       object\n",
      "original_title      object\n",
      "start_year           int64\n",
      "runtime_minutes    float64\n",
      "genres              object\n",
      "dtype: object \n",
      " **********************\n",
      "\n",
      " imdb_ratings data types: \n",
      " tconst            object\n",
      "averagerating    float64\n",
      "numvotes           int64\n",
      "dtype: object \n",
      " **********************\n"
     ]
    }
   ],
   "source": [
    "#check the data type of each column \n",
    "print(f'movie_gross data types: \\n {movie_gross.dtypes} \\n **********************')\n",
    "print(f'\\n imdb_title_df data types: \\n {imdb_title_df.dtypes} \\n **********************')\n",
    "print(f'\\n imdb_ratings data types: \\n {imdb_ratings.dtypes} \\n **********************')"
   ]
  },
  {
   "cell_type": "code",
   "execution_count": 24,
   "metadata": {},
   "outputs": [],
   "source": [
    "#Convert the data type of the foreign_gross column from object to float\n",
    "movie_gross['foreign_gross'] = movie_gross['foreign_gross'].str.replace(\",\",\"\").apply(float)"
   ]
  },
  {
   "cell_type": "code",
   "execution_count": 25,
   "metadata": {},
   "outputs": [
    {
     "data": {
      "text/plain": [
       "dtype('float64')"
      ]
     },
     "execution_count": 25,
     "metadata": {},
     "output_type": "execute_result"
    }
   ],
   "source": [
    "movie_gross['foreign_gross'].dtype"
   ]
  },
  {
   "cell_type": "markdown",
   "metadata": {},
   "source": [
    "### Check for missing values"
   ]
  },
  {
   "cell_type": "code",
   "execution_count": 26,
   "metadata": {},
   "outputs": [
    {
     "name": "stdout",
     "output_type": "stream",
     "text": [
      "movie_gross:\n",
      "title                0\n",
      "studio               5\n",
      "domestic_gross      28\n",
      "foreign_gross     1350\n",
      "year                 0\n",
      "dtype: int64 \n",
      " ****************\n",
      "\n",
      "imdb_title_df:\n",
      "tconst                 0\n",
      "primary_title          0\n",
      "original_title        16\n",
      "start_year             0\n",
      "runtime_minutes    30978\n",
      "genres              5148\n",
      "dtype: int64 \n",
      " ****************\n",
      "\n",
      "imdb_ratings:\n",
      "tconst           0\n",
      "averagerating    0\n",
      "numvotes         0\n",
      "dtype: int64 \n",
      " ****************\n",
      "\n"
     ]
    }
   ],
   "source": [
    "#check for missing values\n",
    "df_list=  [movie_gross,imdb_title_df,imdb_ratings]\n",
    "df_list_names = ['movie_gross','imdb_title_df','imdb_ratings']\n",
    "for i, n in zip(df_list, df_list_names):\n",
    "    print(f'{n}:')\n",
    "    print(i.isna().sum(), '\\n ****************\\n') "
   ]
  },
  {
   "cell_type": "markdown",
   "metadata": {},
   "source": [
    "imdb_ratings has no missing values.<br>\n",
    "To handle the missing values in the domestic_gross and foreign_gross columns of movie_gross, an assumption is made that the movies associated with null values did not have any domestic gross income or foreign gross income respectively, within that year. The missing values of the two columns are to be replaced with a common value, 0.<br>\n",
    "The 5 records with missing values in the studio column can be replaced with 'Unknown'."
   ]
  },
  {
   "cell_type": "code",
   "execution_count": 27,
   "metadata": {},
   "outputs": [],
   "source": [
    "#replace the missing values of foreign_gross and domestic_gross with 0.\n",
    "movie_gross['domestic_gross'] = movie_gross.domestic_gross.fillna(0.0)  \n",
    "movie_gross['foreign_gross'] = movie_gross.foreign_gross.fillna(0.0) \n",
    "\n",
    "#replace missing values of studio with 'Unknown'\n",
    "movie_gross['studio'] = movie_gross.studio.fillna('Unknown')"
   ]
  },
  {
   "cell_type": "markdown",
   "metadata": {},
   "source": [
    "For the imdb_title_df, the missing values in the original_title column can be replaced with the primary title. Since the genre column is very relevant to the business scenario, the records with missing values in the genres column can be dropped. The runtime_minutes can be replaced with the median value. "
   ]
  },
  {
   "cell_type": "code",
   "execution_count": 28,
   "metadata": {},
   "outputs": [],
   "source": [
    "#replace missing values in the original_title column with the primary title\n",
    "imdb_title_df['original_title'] = imdb_title_df['original_title'].fillna(imdb_title_df['primary_title'])\n",
    "\n",
    "# replace  missing values of the runtime_minutes with the median value\n",
    "imdb_title_df['runtime_minutes'] = imdb_title_df['runtime_minutes'].fillna(imdb_title_df['runtime_minutes'].median())\n",
    "\n",
    "#drop the missing values in the genres column\n",
    "imdb_title_df = imdb_title_df.dropna(subset=['genres'])"
   ]
  },
  {
   "cell_type": "markdown",
   "metadata": {},
   "source": [
    "### Check for extraneous values"
   ]
  },
  {
   "cell_type": "code",
   "execution_count": 29,
   "metadata": {},
   "outputs": [
    {
     "data": {
      "text/html": [
       "<div>\n",
       "<style scoped>\n",
       "    .dataframe tbody tr th:only-of-type {\n",
       "        vertical-align: middle;\n",
       "    }\n",
       "\n",
       "    .dataframe tbody tr th {\n",
       "        vertical-align: top;\n",
       "    }\n",
       "\n",
       "    .dataframe thead th {\n",
       "        text-align: right;\n",
       "    }\n",
       "</style>\n",
       "<table border=\"1\" class=\"dataframe\">\n",
       "  <thead>\n",
       "    <tr style=\"text-align: right;\">\n",
       "      <th></th>\n",
       "      <th>title</th>\n",
       "      <th>studio</th>\n",
       "      <th>domestic_gross</th>\n",
       "      <th>foreign_gross</th>\n",
       "      <th>year</th>\n",
       "    </tr>\n",
       "  </thead>\n",
       "  <tbody>\n",
       "  </tbody>\n",
       "</table>\n",
       "</div>"
      ],
      "text/plain": [
       "Empty DataFrame\n",
       "Columns: [title, studio, domestic_gross, foreign_gross, year]\n",
       "Index: []"
      ]
     },
     "execution_count": 29,
     "metadata": {},
     "output_type": "execute_result"
    }
   ],
   "source": [
    "#check for years greater than 2022 in movie_gross\n",
    "movie_gross[movie_gross['year'] > 2022]"
   ]
  },
  {
   "cell_type": "code",
   "execution_count": 30,
   "metadata": {},
   "outputs": [
    {
     "data": {
      "text/html": [
       "<div>\n",
       "<style scoped>\n",
       "    .dataframe tbody tr th:only-of-type {\n",
       "        vertical-align: middle;\n",
       "    }\n",
       "\n",
       "    .dataframe tbody tr th {\n",
       "        vertical-align: top;\n",
       "    }\n",
       "\n",
       "    .dataframe thead th {\n",
       "        text-align: right;\n",
       "    }\n",
       "</style>\n",
       "<table border=\"1\" class=\"dataframe\">\n",
       "  <thead>\n",
       "    <tr style=\"text-align: right;\">\n",
       "      <th></th>\n",
       "      <th>tconst</th>\n",
       "      <th>primary_title</th>\n",
       "      <th>original_title</th>\n",
       "      <th>start_year</th>\n",
       "      <th>runtime_minutes</th>\n",
       "      <th>genres</th>\n",
       "    </tr>\n",
       "  </thead>\n",
       "  <tbody>\n",
       "    <tr>\n",
       "      <th>89506</th>\n",
       "      <td>tt5174640</td>\n",
       "      <td>100 Years</td>\n",
       "      <td>100 Years</td>\n",
       "      <td>2115</td>\n",
       "      <td>87.0</td>\n",
       "      <td>Drama</td>\n",
       "    </tr>\n",
       "    <tr>\n",
       "      <th>16337</th>\n",
       "      <td>tt1757678</td>\n",
       "      <td>Avatar 3</td>\n",
       "      <td>Avatar 3</td>\n",
       "      <td>2023</td>\n",
       "      <td>87.0</td>\n",
       "      <td>Action,Adventure,Drama</td>\n",
       "    </tr>\n",
       "    <tr>\n",
       "      <th>52213</th>\n",
       "      <td>tt3095356</td>\n",
       "      <td>Avatar 4</td>\n",
       "      <td>Avatar 4</td>\n",
       "      <td>2025</td>\n",
       "      <td>87.0</td>\n",
       "      <td>Action,Adventure,Fantasy</td>\n",
       "    </tr>\n",
       "    <tr>\n",
       "      <th>96592</th>\n",
       "      <td>tt5637536</td>\n",
       "      <td>Avatar 5</td>\n",
       "      <td>Avatar 5</td>\n",
       "      <td>2027</td>\n",
       "      <td>87.0</td>\n",
       "      <td>Action,Adventure,Fantasy</td>\n",
       "    </tr>\n",
       "    <tr>\n",
       "      <th>105187</th>\n",
       "      <td>tt6149054</td>\n",
       "      <td>Fantastic Beasts and Where to Find Them 5</td>\n",
       "      <td>Fantastic Beasts and Where to Find Them 5</td>\n",
       "      <td>2024</td>\n",
       "      <td>87.0</td>\n",
       "      <td>Adventure,Family,Fantasy</td>\n",
       "    </tr>\n",
       "    <tr>\n",
       "      <th>2483</th>\n",
       "      <td>tt10255736</td>\n",
       "      <td>Untitled Marvel Project</td>\n",
       "      <td>Untitled Marvel Project</td>\n",
       "      <td>2023</td>\n",
       "      <td>87.0</td>\n",
       "      <td>Action</td>\n",
       "    </tr>\n",
       "    <tr>\n",
       "      <th>2949</th>\n",
       "      <td>tt10300398</td>\n",
       "      <td>Untitled Star Wars Film</td>\n",
       "      <td>Untitled Star Wars Film</td>\n",
       "      <td>2026</td>\n",
       "      <td>87.0</td>\n",
       "      <td>Fantasy</td>\n",
       "    </tr>\n",
       "    <tr>\n",
       "      <th>106865</th>\n",
       "      <td>tt6258542</td>\n",
       "      <td>Wraith of the Umbra and Eidolon II</td>\n",
       "      <td>Wraith of the Umbra and Eidolon II</td>\n",
       "      <td>2023</td>\n",
       "      <td>87.0</td>\n",
       "      <td>Adventure,Drama,Fantasy</td>\n",
       "    </tr>\n",
       "  </tbody>\n",
       "</table>\n",
       "</div>"
      ],
      "text/plain": [
       "            tconst                              primary_title  \\\n",
       "89506    tt5174640                                  100 Years   \n",
       "16337    tt1757678                                   Avatar 3   \n",
       "52213    tt3095356                                   Avatar 4   \n",
       "96592    tt5637536                                   Avatar 5   \n",
       "105187   tt6149054  Fantastic Beasts and Where to Find Them 5   \n",
       "2483    tt10255736                    Untitled Marvel Project   \n",
       "2949    tt10300398                    Untitled Star Wars Film   \n",
       "106865   tt6258542         Wraith of the Umbra and Eidolon II   \n",
       "\n",
       "                                   original_title  start_year  \\\n",
       "89506                                   100 Years        2115   \n",
       "16337                                    Avatar 3        2023   \n",
       "52213                                    Avatar 4        2025   \n",
       "96592                                    Avatar 5        2027   \n",
       "105187  Fantastic Beasts and Where to Find Them 5        2024   \n",
       "2483                      Untitled Marvel Project        2023   \n",
       "2949                      Untitled Star Wars Film        2026   \n",
       "106865         Wraith of the Umbra and Eidolon II        2023   \n",
       "\n",
       "        runtime_minutes                    genres  \n",
       "89506              87.0                     Drama  \n",
       "16337              87.0    Action,Adventure,Drama  \n",
       "52213              87.0  Action,Adventure,Fantasy  \n",
       "96592              87.0  Action,Adventure,Fantasy  \n",
       "105187             87.0  Adventure,Family,Fantasy  \n",
       "2483               87.0                    Action  \n",
       "2949               87.0                   Fantasy  \n",
       "106865             87.0   Adventure,Drama,Fantasy  "
      ]
     },
     "execution_count": 30,
     "metadata": {},
     "output_type": "execute_result"
    }
   ],
   "source": [
    "#check for years greater than 2022 in imdb_title_df\n",
    "imdb_title_df[imdb_title_df['start_year'] > 2022]"
   ]
  },
  {
   "cell_type": "code",
   "execution_count": 31,
   "metadata": {},
   "outputs": [],
   "source": [
    "# drop records with start_year > 2022\n",
    "imdb_title_df = imdb_title_df[imdb_title_df['start_year'] <= 2022]"
   ]
  },
  {
   "cell_type": "markdown",
   "metadata": {},
   "source": [
    "### Merging Dataframes"
   ]
  },
  {
   "cell_type": "code",
   "execution_count": 32,
   "metadata": {},
   "outputs": [
    {
     "data": {
      "text/html": [
       "<div>\n",
       "<style scoped>\n",
       "    .dataframe tbody tr th:only-of-type {\n",
       "        vertical-align: middle;\n",
       "    }\n",
       "\n",
       "    .dataframe tbody tr th {\n",
       "        vertical-align: top;\n",
       "    }\n",
       "\n",
       "    .dataframe thead th {\n",
       "        text-align: right;\n",
       "    }\n",
       "</style>\n",
       "<table border=\"1\" class=\"dataframe\">\n",
       "  <thead>\n",
       "    <tr style=\"text-align: right;\">\n",
       "      <th></th>\n",
       "      <th>tconst</th>\n",
       "      <th>primary_title</th>\n",
       "      <th>original_title</th>\n",
       "      <th>start_year</th>\n",
       "      <th>runtime_minutes</th>\n",
       "      <th>genres</th>\n",
       "      <th>averagerating</th>\n",
       "      <th>numvotes</th>\n",
       "    </tr>\n",
       "  </thead>\n",
       "  <tbody>\n",
       "    <tr>\n",
       "      <th>0</th>\n",
       "      <td>tt1699720</td>\n",
       "      <td>!Women Art Revolution</td>\n",
       "      <td>Women Art Revolution</td>\n",
       "      <td>2010</td>\n",
       "      <td>83.0</td>\n",
       "      <td>Documentary</td>\n",
       "      <td>6.9</td>\n",
       "      <td>196</td>\n",
       "    </tr>\n",
       "    <tr>\n",
       "      <th>1</th>\n",
       "      <td>tt2346170</td>\n",
       "      <td>#1 Serial Killer</td>\n",
       "      <td>#1 Serial Killer</td>\n",
       "      <td>2013</td>\n",
       "      <td>87.0</td>\n",
       "      <td>Horror</td>\n",
       "      <td>5.6</td>\n",
       "      <td>40</td>\n",
       "    </tr>\n",
       "    <tr>\n",
       "      <th>2</th>\n",
       "      <td>tt3120962</td>\n",
       "      <td>#5</td>\n",
       "      <td>#5</td>\n",
       "      <td>2013</td>\n",
       "      <td>68.0</td>\n",
       "      <td>Biography,Comedy,Fantasy</td>\n",
       "      <td>6.8</td>\n",
       "      <td>6</td>\n",
       "    </tr>\n",
       "  </tbody>\n",
       "</table>\n",
       "</div>"
      ],
      "text/plain": [
       "      tconst          primary_title        original_title  start_year  \\\n",
       "0  tt1699720  !Women Art Revolution  Women Art Revolution        2010   \n",
       "1  tt2346170       #1 Serial Killer      #1 Serial Killer        2013   \n",
       "2  tt3120962                     #5                    #5        2013   \n",
       "\n",
       "   runtime_minutes                    genres  averagerating  numvotes  \n",
       "0             83.0               Documentary            6.9       196  \n",
       "1             87.0                    Horror            5.6        40  \n",
       "2             68.0  Biography,Comedy,Fantasy            6.8         6  "
      ]
     },
     "execution_count": 32,
     "metadata": {},
     "output_type": "execute_result"
    }
   ],
   "source": [
    "#merge imdb_title_df and imdb_ratings using an inner join\n",
    "joined_imdb_df = imdb_title_df.merge(imdb_ratings, on='tconst', how='inner')\n",
    "joined_imdb_df.head(3)"
   ]
  },
  {
   "cell_type": "markdown",
   "metadata": {},
   "source": [
    "The joined_imdb_df dataframe has two columns for the movie title: primary_title and the original_title<br>\n",
    "It is important to determine the column to use for merging the movie_gross_df and joined_imdb_df dataframes.<br>\n",
    "From the IMDB Datasets website:\n",
    "- primary_title is the more popular title / the title used by the filmmakers on promotional materials at the point of release.\n",
    "- original_title is the original title, in the original language <br>\n",
    "\n",
    "In this case, since primary_title is the more popular title, it will be used to merge the two datasets."
   ]
  },
  {
   "cell_type": "code",
   "execution_count": 33,
   "metadata": {},
   "outputs": [
    {
     "data": {
      "text/html": [
       "<div>\n",
       "<style scoped>\n",
       "    .dataframe tbody tr th:only-of-type {\n",
       "        vertical-align: middle;\n",
       "    }\n",
       "\n",
       "    .dataframe tbody tr th {\n",
       "        vertical-align: top;\n",
       "    }\n",
       "\n",
       "    .dataframe thead th {\n",
       "        text-align: right;\n",
       "    }\n",
       "</style>\n",
       "<table border=\"1\" class=\"dataframe\">\n",
       "  <thead>\n",
       "    <tr style=\"text-align: right;\">\n",
       "      <th></th>\n",
       "      <th>tconst</th>\n",
       "      <th>title</th>\n",
       "      <th>original_title</th>\n",
       "      <th>start_year</th>\n",
       "      <th>runtime_minutes</th>\n",
       "      <th>genres</th>\n",
       "      <th>averagerating</th>\n",
       "      <th>numvotes</th>\n",
       "      <th>studio</th>\n",
       "      <th>domestic_gross</th>\n",
       "      <th>foreign_gross</th>\n",
       "      <th>year</th>\n",
       "    </tr>\n",
       "  </thead>\n",
       "  <tbody>\n",
       "    <tr>\n",
       "      <th>0</th>\n",
       "      <td>tt2614684</td>\n",
       "      <td>'71</td>\n",
       "      <td>'71</td>\n",
       "      <td>2014</td>\n",
       "      <td>99.0</td>\n",
       "      <td>Action,Drama,Thriller</td>\n",
       "      <td>7.2</td>\n",
       "      <td>46103</td>\n",
       "      <td>RAtt.</td>\n",
       "      <td>1300000.0</td>\n",
       "      <td>355000.0</td>\n",
       "      <td>2015</td>\n",
       "    </tr>\n",
       "    <tr>\n",
       "      <th>1</th>\n",
       "      <td>tt2353767</td>\n",
       "      <td>1,000 Times Good Night</td>\n",
       "      <td>Tusen ganger god natt</td>\n",
       "      <td>2013</td>\n",
       "      <td>117.0</td>\n",
       "      <td>Drama,War</td>\n",
       "      <td>7.1</td>\n",
       "      <td>6848</td>\n",
       "      <td>FM</td>\n",
       "      <td>53900.0</td>\n",
       "      <td>0.0</td>\n",
       "      <td>2014</td>\n",
       "    </tr>\n",
       "    <tr>\n",
       "      <th>2</th>\n",
       "      <td>tt1179933</td>\n",
       "      <td>10 Cloverfield Lane</td>\n",
       "      <td>10 Cloverfield Lane</td>\n",
       "      <td>2016</td>\n",
       "      <td>103.0</td>\n",
       "      <td>Drama,Horror,Mystery</td>\n",
       "      <td>7.2</td>\n",
       "      <td>260383</td>\n",
       "      <td>Par.</td>\n",
       "      <td>72100000.0</td>\n",
       "      <td>38100000.0</td>\n",
       "      <td>2016</td>\n",
       "    </tr>\n",
       "    <tr>\n",
       "      <th>3</th>\n",
       "      <td>tt1715873</td>\n",
       "      <td>10 Years</td>\n",
       "      <td>10 Years</td>\n",
       "      <td>2011</td>\n",
       "      <td>100.0</td>\n",
       "      <td>Comedy,Drama,Romance</td>\n",
       "      <td>6.1</td>\n",
       "      <td>22484</td>\n",
       "      <td>Anch.</td>\n",
       "      <td>203000.0</td>\n",
       "      <td>0.0</td>\n",
       "      <td>2012</td>\n",
       "    </tr>\n",
       "    <tr>\n",
       "      <th>4</th>\n",
       "      <td>tt3346824</td>\n",
       "      <td>1001 Grams</td>\n",
       "      <td>1001 Gram</td>\n",
       "      <td>2014</td>\n",
       "      <td>93.0</td>\n",
       "      <td>Drama</td>\n",
       "      <td>6.3</td>\n",
       "      <td>1301</td>\n",
       "      <td>KL</td>\n",
       "      <td>11000.0</td>\n",
       "      <td>0.0</td>\n",
       "      <td>2015</td>\n",
       "    </tr>\n",
       "  </tbody>\n",
       "</table>\n",
       "</div>"
      ],
      "text/plain": [
       "      tconst                   title         original_title  start_year  \\\n",
       "0  tt2614684                     '71                    '71        2014   \n",
       "1  tt2353767  1,000 Times Good Night  Tusen ganger god natt        2013   \n",
       "2  tt1179933     10 Cloverfield Lane    10 Cloverfield Lane        2016   \n",
       "3  tt1715873                10 Years               10 Years        2011   \n",
       "4  tt3346824              1001 Grams              1001 Gram        2014   \n",
       "\n",
       "   runtime_minutes                 genres  averagerating  numvotes studio  \\\n",
       "0             99.0  Action,Drama,Thriller            7.2     46103  RAtt.   \n",
       "1            117.0              Drama,War            7.1      6848     FM   \n",
       "2            103.0   Drama,Horror,Mystery            7.2    260383   Par.   \n",
       "3            100.0   Comedy,Drama,Romance            6.1     22484  Anch.   \n",
       "4             93.0                  Drama            6.3      1301     KL   \n",
       "\n",
       "   domestic_gross  foreign_gross  year  \n",
       "0       1300000.0       355000.0  2015  \n",
       "1         53900.0            0.0  2014  \n",
       "2      72100000.0     38100000.0  2016  \n",
       "3        203000.0            0.0  2012  \n",
       "4         11000.0            0.0  2015  "
      ]
     },
     "execution_count": 33,
     "metadata": {},
     "output_type": "execute_result"
    }
   ],
   "source": [
    "#Rename primary_title column to title\n",
    "joined_imdb_df.rename(columns = {'primary_title': 'title'}, inplace = True)\n",
    "#Merge movie_gross_df and joined_imdb_df on the title column using an inner join\n",
    "movies_df = joined_imdb_df.merge(movie_gross, on='title', how='inner')\n",
    "movies_df.head()"
   ]
  },
  {
   "cell_type": "code",
   "execution_count": 34,
   "metadata": {},
   "outputs": [
    {
     "data": {
      "text/plain": [
       "(2947, 12)"
      ]
     },
     "execution_count": 34,
     "metadata": {},
     "output_type": "execute_result"
    }
   ],
   "source": [
    "#shape of merged dataframe\n",
    "movies_df.shape"
   ]
  },
  {
   "cell_type": "code",
   "execution_count": 35,
   "metadata": {},
   "outputs": [
    {
     "data": {
      "text/plain": [
       "False    2947\n",
       "dtype: int64"
      ]
     },
     "execution_count": 35,
     "metadata": {},
     "output_type": "execute_result"
    }
   ],
   "source": [
    "#check for duplicates in merged dataframe\n",
    "movies_df.duplicated().value_counts()"
   ]
  },
  {
   "cell_type": "code",
   "execution_count": 36,
   "metadata": {},
   "outputs": [
    {
     "name": "stdout",
     "output_type": "stream",
     "text": [
      "tconst:\n",
      "tt6599340    2\n",
      "tt2442772    2\n",
      "tt2614684    1\n",
      "tt2170593    1\n",
      "tt2379713    1\n",
      "            ..\n",
      "tt2510894    1\n",
      "tt5220122    1\n",
      "tt1573072    1\n",
      "tt4991978    1\n",
      "tt2948356    1\n",
      "Name: tconst, Length: 2945, dtype: int64\n",
      "\n",
      "title:\n",
      "Gold                            6\n",
      "One Day                         6\n",
      "We Are Family                   5\n",
      "Youth                           5\n",
      "Unstoppable                     4\n",
      "                               ..\n",
      "I Don't Know How She Does It    1\n",
      "I Feel Pretty                   1\n",
      "I Give It a Year                1\n",
      "I Hate Luv Storys               1\n",
      "Zootopia                        1\n",
      "Name: title, Length: 2598, dtype: int64\n",
      "\n",
      "original_title:\n",
      "The Journey               4\n",
      "Gold                      4\n",
      "Bodyguard                 4\n",
      "Aurora                    4\n",
      "The Gambler               4\n",
      "                         ..\n",
      "I Saw the Light           1\n",
      "I Smile Back              1\n",
      "I Spit on Your Grave      1\n",
      "I Spit on Your Grave 2    1\n",
      "Zootopia                  1\n",
      "Name: original_title, Length: 2705, dtype: int64\n",
      "\n",
      "genres:\n",
      "Drama                      295\n",
      "Comedy,Drama,Romance       131\n",
      "Comedy,Drama               131\n",
      "Drama,Romance              111\n",
      "Documentary                103\n",
      "                          ... \n",
      "Horror,Music,Thriller        1\n",
      "Drama,History,Sport          1\n",
      "Action,Animation,Sci-Fi      1\n",
      "Adventure,Comedy,Music       1\n",
      "Sport                        1\n",
      "Name: genres, Length: 321, dtype: int64\n",
      "\n",
      "studio:\n",
      "Uni.     145\n",
      "IFC      142\n",
      "Fox      136\n",
      "WB       118\n",
      "Magn.    114\n",
      "        ... \n",
      "ITL        1\n",
      "AZ         1\n",
      "MPI        1\n",
      "SHO        1\n",
      "ICir       1\n",
      "Name: studio, Length: 217, dtype: int64\n",
      "\n"
     ]
    }
   ],
   "source": [
    "##unique value counts in columns with dtype object in the merged dataset\n",
    "cat_columns = movies_df.select_dtypes(include='object').columns\n",
    "for column in cat_columns:\n",
    "    print(f'{column}:')\n",
    "    print(movies_df[column].value_counts())\n",
    "    print()"
   ]
  },
  {
   "cell_type": "markdown",
   "metadata": {},
   "source": [
    "### Total Gross Income\n",
    "A column of the total gross income can be added to the dataframe. The total gross income can be calculated by finding the sum of the domestic gross income and the foreign gross income for each movie. "
   ]
  },
  {
   "cell_type": "code",
   "execution_count": 37,
   "metadata": {
    "scrolled": true
   },
   "outputs": [
    {
     "data": {
      "text/html": [
       "<div>\n",
       "<style scoped>\n",
       "    .dataframe tbody tr th:only-of-type {\n",
       "        vertical-align: middle;\n",
       "    }\n",
       "\n",
       "    .dataframe tbody tr th {\n",
       "        vertical-align: top;\n",
       "    }\n",
       "\n",
       "    .dataframe thead th {\n",
       "        text-align: right;\n",
       "    }\n",
       "</style>\n",
       "<table border=\"1\" class=\"dataframe\">\n",
       "  <thead>\n",
       "    <tr style=\"text-align: right;\">\n",
       "      <th></th>\n",
       "      <th>tconst</th>\n",
       "      <th>title</th>\n",
       "      <th>original_title</th>\n",
       "      <th>start_year</th>\n",
       "      <th>runtime_minutes</th>\n",
       "      <th>genres</th>\n",
       "      <th>averagerating</th>\n",
       "      <th>numvotes</th>\n",
       "      <th>studio</th>\n",
       "      <th>domestic_gross</th>\n",
       "      <th>foreign_gross</th>\n",
       "      <th>year</th>\n",
       "      <th>total_gross</th>\n",
       "    </tr>\n",
       "  </thead>\n",
       "  <tbody>\n",
       "    <tr>\n",
       "      <th>0</th>\n",
       "      <td>tt2614684</td>\n",
       "      <td>'71</td>\n",
       "      <td>'71</td>\n",
       "      <td>2014</td>\n",
       "      <td>99.0</td>\n",
       "      <td>Action,Drama,Thriller</td>\n",
       "      <td>7.2</td>\n",
       "      <td>46103</td>\n",
       "      <td>RAtt.</td>\n",
       "      <td>1300000.0</td>\n",
       "      <td>355000.0</td>\n",
       "      <td>2015</td>\n",
       "      <td>1655000.0</td>\n",
       "    </tr>\n",
       "    <tr>\n",
       "      <th>1</th>\n",
       "      <td>tt2353767</td>\n",
       "      <td>1,000 Times Good Night</td>\n",
       "      <td>Tusen ganger god natt</td>\n",
       "      <td>2013</td>\n",
       "      <td>117.0</td>\n",
       "      <td>Drama,War</td>\n",
       "      <td>7.1</td>\n",
       "      <td>6848</td>\n",
       "      <td>FM</td>\n",
       "      <td>53900.0</td>\n",
       "      <td>0.0</td>\n",
       "      <td>2014</td>\n",
       "      <td>53900.0</td>\n",
       "    </tr>\n",
       "  </tbody>\n",
       "</table>\n",
       "</div>"
      ],
      "text/plain": [
       "      tconst                   title         original_title  start_year  \\\n",
       "0  tt2614684                     '71                    '71        2014   \n",
       "1  tt2353767  1,000 Times Good Night  Tusen ganger god natt        2013   \n",
       "\n",
       "   runtime_minutes                 genres  averagerating  numvotes studio  \\\n",
       "0             99.0  Action,Drama,Thriller            7.2     46103  RAtt.   \n",
       "1            117.0              Drama,War            7.1      6848     FM   \n",
       "\n",
       "   domestic_gross  foreign_gross  year  total_gross  \n",
       "0       1300000.0       355000.0  2015    1655000.0  \n",
       "1         53900.0            0.0  2014      53900.0  "
      ]
     },
     "execution_count": 37,
     "metadata": {},
     "output_type": "execute_result"
    }
   ],
   "source": [
    "#Create a new column,total_gross, and add the domestic gross income to the foreign gross income\n",
    "movies_df = movies_df.copy()\n",
    "movies_df['total_gross'] = movies_df['domestic_gross'] + movies_df['foreign_gross']\n",
    "movies_df.head(2)"
   ]
  },
  {
   "cell_type": "markdown",
   "metadata": {},
   "source": [
    "### Separate the genre categories"
   ]
  },
  {
   "cell_type": "markdown",
   "metadata": {},
   "source": [
    "The genre column has multiple categories in a single row. The categories can be separated so that there is one category in each row. <br>\n",
    "Explode can be used to transform each element of a list-like to a row, replicating index values."
   ]
  },
  {
   "cell_type": "code",
   "execution_count": 38,
   "metadata": {},
   "outputs": [],
   "source": [
    "#make a copy of the dataframe and assign it to a different variable name.\n",
    "movies = movies_df.copy()\n",
    "#split the genre categories into a list, around the comma separator\n",
    "movies['genres'] = movies['genres'].str.split(',')\n",
    "#transform each element in the genres list to a row\n",
    "movies = movies.explode('genres')"
   ]
  },
  {
   "cell_type": "code",
   "execution_count": 39,
   "metadata": {},
   "outputs": [
    {
     "data": {
      "text/html": [
       "<div>\n",
       "<style scoped>\n",
       "    .dataframe tbody tr th:only-of-type {\n",
       "        vertical-align: middle;\n",
       "    }\n",
       "\n",
       "    .dataframe tbody tr th {\n",
       "        vertical-align: top;\n",
       "    }\n",
       "\n",
       "    .dataframe thead th {\n",
       "        text-align: right;\n",
       "    }\n",
       "</style>\n",
       "<table border=\"1\" class=\"dataframe\">\n",
       "  <thead>\n",
       "    <tr style=\"text-align: right;\">\n",
       "      <th></th>\n",
       "      <th>tconst</th>\n",
       "      <th>title</th>\n",
       "      <th>original_title</th>\n",
       "      <th>start_year</th>\n",
       "      <th>runtime_minutes</th>\n",
       "      <th>genres</th>\n",
       "      <th>averagerating</th>\n",
       "      <th>numvotes</th>\n",
       "      <th>studio</th>\n",
       "      <th>domestic_gross</th>\n",
       "      <th>foreign_gross</th>\n",
       "      <th>year</th>\n",
       "      <th>total_gross</th>\n",
       "    </tr>\n",
       "  </thead>\n",
       "  <tbody>\n",
       "    <tr>\n",
       "      <th>0</th>\n",
       "      <td>tt2614684</td>\n",
       "      <td>'71</td>\n",
       "      <td>'71</td>\n",
       "      <td>2014</td>\n",
       "      <td>99.0</td>\n",
       "      <td>Action</td>\n",
       "      <td>7.2</td>\n",
       "      <td>46103</td>\n",
       "      <td>RAtt.</td>\n",
       "      <td>1300000.0</td>\n",
       "      <td>355000.0</td>\n",
       "      <td>2015</td>\n",
       "      <td>1655000.0</td>\n",
       "    </tr>\n",
       "    <tr>\n",
       "      <th>0</th>\n",
       "      <td>tt2614684</td>\n",
       "      <td>'71</td>\n",
       "      <td>'71</td>\n",
       "      <td>2014</td>\n",
       "      <td>99.0</td>\n",
       "      <td>Drama</td>\n",
       "      <td>7.2</td>\n",
       "      <td>46103</td>\n",
       "      <td>RAtt.</td>\n",
       "      <td>1300000.0</td>\n",
       "      <td>355000.0</td>\n",
       "      <td>2015</td>\n",
       "      <td>1655000.0</td>\n",
       "    </tr>\n",
       "    <tr>\n",
       "      <th>0</th>\n",
       "      <td>tt2614684</td>\n",
       "      <td>'71</td>\n",
       "      <td>'71</td>\n",
       "      <td>2014</td>\n",
       "      <td>99.0</td>\n",
       "      <td>Thriller</td>\n",
       "      <td>7.2</td>\n",
       "      <td>46103</td>\n",
       "      <td>RAtt.</td>\n",
       "      <td>1300000.0</td>\n",
       "      <td>355000.0</td>\n",
       "      <td>2015</td>\n",
       "      <td>1655000.0</td>\n",
       "    </tr>\n",
       "    <tr>\n",
       "      <th>1</th>\n",
       "      <td>tt2353767</td>\n",
       "      <td>1,000 Times Good Night</td>\n",
       "      <td>Tusen ganger god natt</td>\n",
       "      <td>2013</td>\n",
       "      <td>117.0</td>\n",
       "      <td>Drama</td>\n",
       "      <td>7.1</td>\n",
       "      <td>6848</td>\n",
       "      <td>FM</td>\n",
       "      <td>53900.0</td>\n",
       "      <td>0.0</td>\n",
       "      <td>2014</td>\n",
       "      <td>53900.0</td>\n",
       "    </tr>\n",
       "    <tr>\n",
       "      <th>1</th>\n",
       "      <td>tt2353767</td>\n",
       "      <td>1,000 Times Good Night</td>\n",
       "      <td>Tusen ganger god natt</td>\n",
       "      <td>2013</td>\n",
       "      <td>117.0</td>\n",
       "      <td>War</td>\n",
       "      <td>7.1</td>\n",
       "      <td>6848</td>\n",
       "      <td>FM</td>\n",
       "      <td>53900.0</td>\n",
       "      <td>0.0</td>\n",
       "      <td>2014</td>\n",
       "      <td>53900.0</td>\n",
       "    </tr>\n",
       "  </tbody>\n",
       "</table>\n",
       "</div>"
      ],
      "text/plain": [
       "      tconst                   title         original_title  start_year  \\\n",
       "0  tt2614684                     '71                    '71        2014   \n",
       "0  tt2614684                     '71                    '71        2014   \n",
       "0  tt2614684                     '71                    '71        2014   \n",
       "1  tt2353767  1,000 Times Good Night  Tusen ganger god natt        2013   \n",
       "1  tt2353767  1,000 Times Good Night  Tusen ganger god natt        2013   \n",
       "\n",
       "   runtime_minutes    genres  averagerating  numvotes studio  domestic_gross  \\\n",
       "0             99.0    Action            7.2     46103  RAtt.       1300000.0   \n",
       "0             99.0     Drama            7.2     46103  RAtt.       1300000.0   \n",
       "0             99.0  Thriller            7.2     46103  RAtt.       1300000.0   \n",
       "1            117.0     Drama            7.1      6848     FM         53900.0   \n",
       "1            117.0       War            7.1      6848     FM         53900.0   \n",
       "\n",
       "   foreign_gross  year  total_gross  \n",
       "0       355000.0  2015    1655000.0  \n",
       "0       355000.0  2015    1655000.0  \n",
       "0       355000.0  2015    1655000.0  \n",
       "1            0.0  2014      53900.0  \n",
       "1            0.0  2014      53900.0  "
      ]
     },
     "execution_count": 39,
     "metadata": {},
     "output_type": "execute_result"
    }
   ],
   "source": [
    "#preview the first five rows of the movies dataframe \n",
    "movies.head()"
   ]
  },
  {
   "cell_type": "code",
   "execution_count": 40,
   "metadata": {},
   "outputs": [],
   "source": [
    "#reset index\n",
    "movies = movies.reset_index(drop=True)"
   ]
  },
  {
   "cell_type": "code",
   "execution_count": 41,
   "metadata": {},
   "outputs": [
    {
     "data": {
      "text/plain": [
       "Drama          1718\n",
       "Comedy          918\n",
       "Action          638\n",
       "Romance         464\n",
       "Thriller        438\n",
       "Adventure       437\n",
       "Crime           379\n",
       "Biography       282\n",
       "Horror          231\n",
       "Documentary     215\n",
       "Mystery         207\n",
       "Fantasy         166\n",
       "Animation       151\n",
       "History         135\n",
       "Sci-Fi          135\n",
       "Family          114\n",
       "Music            89\n",
       "Sport            52\n",
       "War              50\n",
       "Western          21\n",
       "Musical          18\n",
       "News              2\n",
       "Name: genres, dtype: int64"
      ]
     },
     "execution_count": 41,
     "metadata": {},
     "output_type": "execute_result"
    }
   ],
   "source": [
    "#value counts of the genres column in the new dataset after separating the genres\n",
    "movies['genres'].value_counts()"
   ]
  },
  {
   "cell_type": "code",
   "execution_count": 43,
   "metadata": {},
   "outputs": [
    {
     "data": {
      "text/plain": [
       "Drama                      295\n",
       "Comedy,Drama,Romance       131\n",
       "Comedy,Drama               131\n",
       "Drama,Romance              111\n",
       "Documentary                103\n",
       "                          ... \n",
       "Horror,Music,Thriller        1\n",
       "Drama,History,Sport          1\n",
       "Action,Animation,Sci-Fi      1\n",
       "Adventure,Comedy,Music       1\n",
       "Sport                        1\n",
       "Name: genres, Length: 321, dtype: int64"
      ]
     },
     "execution_count": 43,
     "metadata": {},
     "output_type": "execute_result"
    }
   ],
   "source": [
    "#value counts of the genres column in the dataset before separating the genres\n",
    "movies_df['genres'].value_counts()"
   ]
  },
  {
   "cell_type": "markdown",
   "metadata": {},
   "source": [
    "## Data Visualization"
   ]
  },
  {
   "cell_type": "markdown",
   "metadata": {},
   "source": [
    "### Number of movies per genre"
   ]
  },
  {
   "cell_type": "code",
   "execution_count": 99,
   "metadata": {
    "scrolled": false
   },
   "outputs": [
    {
     "data": {
      "image/png": "[encoded data removed]",
      "text/plain": [
       "<Figure size 1080x576 with 1 Axes>"
      ]
     },
     "metadata": {},
     "output_type": "display_data"
    }
   ],
   "source": [
    "#countplot showing the number of movies per genre\n",
    "sns.set(style='darkgrid')\n",
    "sns.set_context('talk')\n",
    "fig, ax = plt.subplots(figsize=(15,8))\n",
    "ax = sns.countplot(x=movies['genres'], order=movies['genres'].value_counts().index)\n",
    "ax.set_title('Number of movies per genre')\n",
    "plt.xticks(rotation=85)\n",
    "fig.savefig('images/number_of_movies.png');"
   ]
  },
  {
   "cell_type": "markdown",
   "metadata": {},
   "source": [
    "Drama, comedy and action are the genres that have the highest number of movies released in this dataset. Drama and  comedy are probably the largest film genres because they include a broad spectrum of films. They are more general categories, hence can fall into a movie with more than one genre classification.<br>\n",
    "\n",
    "The genres with the least number of movies are war, western, musical and news. These genres are more specific based on the plot of the movie."
   ]
  },
  {
   "cell_type": "markdown",
   "metadata": {},
   "source": [
    "### Distribution of the movies' average rating"
   ]
  },
  {
   "cell_type": "code",
   "execution_count": 64,
   "metadata": {},
   "outputs": [
    {
     "data": {
      "image/png": "[encoded data removed]",
      "text/plain": [
       "<Figure size 864x576 with 1 Axes>"
      ]
     },
     "metadata": {},
     "output_type": "display_data"
    }
   ],
   "source": [
    "#histogram showing the average rating distribution\n",
    "fig, ax = plt.subplots(figsize=(12,8))\n",
    "sns.histplot(movies['averagerating'], bins= 10, ax=ax)\n",
    "ax.set_title('Distribution of average rating');"
   ]
  },
  {
   "cell_type": "markdown",
   "metadata": {},
   "source": [
    "Most movies have an average rating of around 6. Generally, the distribution is negatively skewed. There are a few movies with a rating of less than 4.<br>\n",
    "After understanding this distribution, it is important to look at the average rating by genre."
   ]
  },
  {
   "cell_type": "markdown",
   "metadata": {},
   "source": [
    "### Genre of movies with the highest average rating"
   ]
  },
  {
   "cell_type": "code",
   "execution_count": 68,
   "metadata": {},
   "outputs": [
    {
     "data": {
      "text/plain": [
       "genres\n",
       "Documentary    7.276744\n",
       "Biography      6.971986\n",
       "Sport          6.896154\n",
       "History        6.873333\n",
       "War            6.786000\n",
       "Music          6.743820\n",
       "Animation      6.696026\n",
       "Name: averagerating, dtype: float64"
      ]
     },
     "execution_count": 68,
     "metadata": {},
     "output_type": "execute_result"
    }
   ],
   "source": [
    "genres_rating_df = movies.groupby('genres')['averagerating'].mean().sort_values(ascending = False)\n",
    "genres_rating_df.head(7)"
   ]
  },
  {
   "cell_type": "code",
   "execution_count": 69,
   "metadata": {},
   "outputs": [
    {
     "data": {
      "image/png": "[encoded data removed]",
      "text/plain": [
       "<Figure size 1008x504 with 1 Axes>"
      ]
     },
     "metadata": {},
     "output_type": "display_data"
    }
   ],
   "source": [
    "#bar graph showing the average rating by genre\n",
    "fig, ax =plt.subplots(figsize=(14,7))\n",
    "order_by = movies.groupby('genres')['averagerating'].mean().sort_values(ascending=False).index\n",
    "sns.barplot(data=movies, x='genres', y= 'averagerating', palette='muted', order=order_by, ax=ax)\n",
    "ax.set_title('Average rating by genre')\n",
    "ax.set_ylabel('average rating')\n",
    "plt.xticks(rotation=85);"
   ]
  },
  {
   "cell_type": "markdown",
   "metadata": {},
   "source": [
    "The difference between the heights of the bars, which represent the average rating, is quite small.<br>\n",
    "Documentary, biography and sport have the highest average rating while family, thriller and horror have the lowest average rating."
   ]
  },
  {
   "cell_type": "markdown",
   "metadata": {},
   "source": [
    "### Total gross income by genre "
   ]
  },
  {
   "cell_type": "code",
   "execution_count": 70,
   "metadata": {},
   "outputs": [
    {
     "data": {
      "image/png": "[encoded data removed]",
      "text/plain": [
       "<Figure size 1008x504 with 1 Axes>"
      ]
     },
     "metadata": {},
     "output_type": "display_data"
    }
   ],
   "source": [
    "#bar graph showing the total gross income by genre\n",
    "fig, ax =plt.subplots(figsize=(14,7))\n",
    "order_by = movies.groupby('genres')['total_gross'].mean().sort_values(ascending=False).index\n",
    "sns.barplot(data=movies, x='genres', y= 'total_gross', palette='muted', order=order_by, ax=ax)\n",
    "ax.set_title('Total gross income by genre')\n",
    "plt.xticks(rotation=85);"
   ]
  },
  {
   "cell_type": "markdown",
   "metadata": {},
   "source": [
    "Box office Mojo tracks theatrical box office earnings. Additional sources of revenue, such as home entertainment sales and rentals, television rights, product placement fees are not included.<br>\n",
    "The genres with the highest income are Sci-Fi, adventure, animation and action while the genres with the lowest income are romance, documentary and war.<br>\n",
    "\n",
    "Various factors can affect the total gross income of a movie. In this case, I will investigate if there is a relationship between the average rating and the gross income."
   ]
  },
  {
   "cell_type": "markdown",
   "metadata": {},
   "source": [
    "### Relationship between the average rating and the gross income"
   ]
  },
  {
   "cell_type": "code",
   "execution_count": 74,
   "metadata": {},
   "outputs": [
    {
     "data": {
      "image/png": "[encoded data removed]",
      "text/plain": [
       "<Figure size 792x432 with 1 Axes>"
      ]
     },
     "metadata": {},
     "output_type": "display_data"
    }
   ],
   "source": [
    "#scatter plot showing  total gross vs average rating\n",
    "fig, ax =plt.subplots(figsize=(11,6))\n",
    "sns.scatterplot(x=movies['averagerating'], y=movies['total_gross'], ax=ax)\n",
    "ax.set_title('total gross vs average rating')\n",
    "ax.set_ylabel('total gross income')\n",
    "ax.set_xlabel('average rating');"
   ]
  },
  {
   "cell_type": "markdown",
   "metadata": {},
   "source": [
    "There is no clear relationship between the total gross income and the average rating. However, movies with a low average rating of below 4 have a low total gross income."
   ]
  },
  {
   "cell_type": "markdown",
   "metadata": {},
   "source": [
    "### Gross income by start year"
   ]
  },
  {
   "cell_type": "code",
   "execution_count": 96,
   "metadata": {},
   "outputs": [
    {
     "data": {
      "image/png": "[encoded data removed]",
      "text/plain": [
       "<Figure size 1080x432 with 1 Axes>"
      ]
     },
     "metadata": {},
     "output_type": "display_data"
    }
   ],
   "source": [
    "#lineplot showing the domestic gross and foreign gross income by start year\n",
    "fig, ax =plt.subplots(figsize=(15,6))\n",
    "sns.lineplot(data=movies, x='start_year', y='domestic_gross', ax=ax, label='domestic_gross')\n",
    "sns.lineplot(data=movies, x='start_year', y='foreign_gross', label='foreign_gross', ax=ax)\n",
    "ax.set_title('Gross income by start year')\n",
    "ax.set_ylabel('Gross income');"
   ]
  },
  {
   "cell_type": "markdown",
   "metadata": {},
   "source": [
    "Throughout the years, the foreign gross is often higher than the domestic gross income when a movie is released. <br>\n",
    "Movies that were released in 2018 had the highest foreign gross and domestic gross income.The gross incomes then drastically dropped to their lowest for movies that were released in 2019. This is probably because most people preferred to utilize streaming services rather than go to the theatres. <br>For instance, from 2019, Netflix grew at an astonishing pace around the world.  The streaming video company added 9.6 million paid subscribers in the first three months of 2019."
   ]
  },
  {
   "cell_type": "markdown",
   "metadata": {},
   "source": [
    "## Conclusions and recommendations"
   ]
  },
  {
   "cell_type": "markdown",
   "metadata": {},
   "source": [
    "- The genres of most of the movies that have been released are drama, comedy and action.<br>\n",
    "- From the dataset available, the popularity and success of a given genre can be determined based on the average rating of the genre or the total gross income of the genre.<br>\n",
    "- Documentary, biography and sport have the highest average rating while Sci-Fi, adventure, animation and action have the highest total gross income.Despite documentary and biography having the highest average rating, they have a very low income.There is no clear relationship between the total gross income and the average rating.\n",
    "- Microsoft should consider focusing on genres with the highest total gross income in order to get higher returns on their investment. These genres are Sci-Fi, adventure, animation and action. They seem to appeal to a broad audience hence have a high theatrical box office earnings. \n",
    "- Microsoft should focus on exploring more the international markets  which have had a higher gross over the years when compared to the domestic markets. The movies created should consider the interests of the international market.\n",
    "- Due to the drastic drop in the gross from theatrical earnings for movies released in 2019, Microsoft should look into other sources of revenue and invest in them."
   ]
  },
  {
   "cell_type": "markdown",
   "metadata": {},
   "source": [
    "## Future work"
   ]
  },
  {
   "cell_type": "markdown",
   "metadata": {},
   "source": [
    "- Further research should be done to determine the best time of the year to release a movie of a certain genre.\n",
    "- It is beneficial to determine whether the total gross income of a genre increases proportionally if the production, development, marketing, and advertising budgets of the movie are increased. This can help in predicting the profits based on the budget.\n",
    "- Other than theatrical earnings, there are other sources of revenue for studios such as home entertainment sales and rentals, television rights, product placement fees and streaming services. It would be important to collect data about these sources of revenue and compare them to the revenue from the theatre earnings.\n"
   ]
  }
 ],
 "metadata": {
  "kernelspec": {
   "display_name": "Python 3 (ipykernel)",
   "language": "python",
   "name": "python3"
  },
  "language_info": {
   "codemirror_mode": {
    "name": "ipython",
    "version": 3
   },
   "file_extension": ".py",
   "mimetype": "text/x-python",
   "name": "python",
   "nbconvert_exporter": "python",
   "pygments_lexer": "ipython3",
   "version": "3.9.12"
  }
 },
 "nbformat": 4,
 "nbformat_minor": 2
}
